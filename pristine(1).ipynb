{
  "nbformat": 4,
  "nbformat_minor": 0,
  "metadata": {
    "colab": {
      "name": "pristine.ipynb",
      "provenance": [],
      "collapsed_sections": []
    },
    "kernelspec": {
      "name": "python3",
      "display_name": "Python 3"
    }
  },
  "cells": [
    {
      "cell_type": "code",
      "metadata": {
        "id": "iYSA3zcDgiWN"
      },
      "source": [
        "import pandas as pd\n",
        "import numpy as np\n",
        "import matplotlib.pyplot as plt\n",
        "import seaborn as sns"
      ],
      "execution_count": null,
      "outputs": []
    },
    {
      "cell_type": "code",
      "metadata": {
        "id": "b9embV3lg_ab"
      },
      "source": [
        "df=pd.read_csv(\"/content/Pristine feedback - final.csv\")"
      ],
      "execution_count": null,
      "outputs": []
    },
    {
      "cell_type": "code",
      "metadata": {
        "colab": {
          "base_uri": "https://localhost:8080/",
          "height": 330
        },
        "id": "3WQzlcSfhF_1",
        "outputId": "19a865bc-f64c-4c6a-8731-615622b2bcd9"
      },
      "source": [
        "df.head()"
      ],
      "execution_count": null,
      "outputs": [
        {
          "output_type": "execute_result",
          "data": {
            "text/html": [
              "<div>\n",
              "<style scoped>\n",
              "    .dataframe tbody tr th:only-of-type {\n",
              "        vertical-align: middle;\n",
              "    }\n",
              "\n",
              "    .dataframe tbody tr th {\n",
              "        vertical-align: top;\n",
              "    }\n",
              "\n",
              "    .dataframe thead th {\n",
              "        text-align: right;\n",
              "    }\n",
              "</style>\n",
              "<table border=\"1\" class=\"dataframe\">\n",
              "  <thead>\n",
              "    <tr style=\"text-align: right;\">\n",
              "      <th></th>\n",
              "      <th>ID</th>\n",
              "      <th>Name</th>\n",
              "      <th>Email</th>\n",
              "      <th>Phone Number</th>\n",
              "      <th>Topic</th>\n",
              "      <th>Trainer</th>\n",
              "      <th>OverallSession</th>\n",
              "      <th>TrainersKnoweldge</th>\n",
              "      <th>TeachingStyle</th>\n",
              "      <th>Descripive Feedback</th>\n",
              "      <th>InterestedinCourse</th>\n",
              "      <th>College Name</th>\n",
              "    </tr>\n",
              "  </thead>\n",
              "  <tbody>\n",
              "    <tr>\n",
              "      <th>0</th>\n",
              "      <td>1</td>\n",
              "      <td>Snehal Nighot</td>\n",
              "      <td>snehalnighot3@gmail.com</td>\n",
              "      <td>8.450916e+09</td>\n",
              "      <td>Ethical Hacking</td>\n",
              "      <td>Rizwan Shaikh</td>\n",
              "      <td>NaN</td>\n",
              "      <td>NaN</td>\n",
              "      <td>NaN</td>\n",
              "      <td>Not mentioned</td>\n",
              "      <td>yes</td>\n",
              "      <td>Western College</td>\n",
              "    </tr>\n",
              "    <tr>\n",
              "      <th>1</th>\n",
              "      <td>2</td>\n",
              "      <td>Jaspreet Kaur</td>\n",
              "      <td>jkbal85@gmail.com</td>\n",
              "      <td>7.776964e+09</td>\n",
              "      <td>Ethical Hacking</td>\n",
              "      <td>Rizwan Shaikh</td>\n",
              "      <td>NaN</td>\n",
              "      <td>NaN</td>\n",
              "      <td>NaN</td>\n",
              "      <td>Not mentioned</td>\n",
              "      <td>yes</td>\n",
              "      <td>Western College</td>\n",
              "    </tr>\n",
              "    <tr>\n",
              "      <th>2</th>\n",
              "      <td>3</td>\n",
              "      <td>Tejashree Daroge</td>\n",
              "      <td>tejashreedaroge@gmail.com</td>\n",
              "      <td>8.689090e+10</td>\n",
              "      <td>Ethical Hacking</td>\n",
              "      <td>Rizwan Shaikh</td>\n",
              "      <td>NaN</td>\n",
              "      <td>NaN</td>\n",
              "      <td>NaN</td>\n",
              "      <td>Not mentioned</td>\n",
              "      <td>yes</td>\n",
              "      <td>Western College</td>\n",
              "    </tr>\n",
              "    <tr>\n",
              "      <th>3</th>\n",
              "      <td>4</td>\n",
              "      <td>Ajay Pawar</td>\n",
              "      <td>ajaypawar99@gmail.com</td>\n",
              "      <td>9.769699e+09</td>\n",
              "      <td>Ethical Hacking</td>\n",
              "      <td>Rizwan Shaikh</td>\n",
              "      <td>NaN</td>\n",
              "      <td>NaN</td>\n",
              "      <td>NaN</td>\n",
              "      <td>Not mentioned</td>\n",
              "      <td>yes</td>\n",
              "      <td>ICLES College</td>\n",
              "    </tr>\n",
              "    <tr>\n",
              "      <th>4</th>\n",
              "      <td>5</td>\n",
              "      <td>Suraj Shelar</td>\n",
              "      <td>surajshelar456@gmail.com</td>\n",
              "      <td>8.828259e+09</td>\n",
              "      <td>Ethical Hacking</td>\n",
              "      <td>Rizwan Shaikh</td>\n",
              "      <td>NaN</td>\n",
              "      <td>NaN</td>\n",
              "      <td>NaN</td>\n",
              "      <td>Not mentioned</td>\n",
              "      <td>yes</td>\n",
              "      <td>NaN</td>\n",
              "    </tr>\n",
              "  </tbody>\n",
              "</table>\n",
              "</div>"
            ],
            "text/plain": [
              "   ID              Name  ... InterestedinCourse     College Name\n",
              "0   1     Snehal Nighot  ...                yes  Western College\n",
              "1   2     Jaspreet Kaur  ...                yes  Western College\n",
              "2   3  Tejashree Daroge  ...                yes  Western College\n",
              "3   4        Ajay Pawar  ...                yes    ICLES College\n",
              "4   5      Suraj Shelar  ...                yes              NaN\n",
              "\n",
              "[5 rows x 12 columns]"
            ]
          },
          "metadata": {
            "tags": []
          },
          "execution_count": 4
        }
      ]
    },
    {
      "cell_type": "code",
      "metadata": {
        "colab": {
          "base_uri": "https://localhost:8080/"
        },
        "id": "fPXH9yf5hLJ_",
        "outputId": "9c980cad-fc07-4680-c511-a08d2d14be30"
      },
      "source": [
        "df.isnull().sum()"
      ],
      "execution_count": null,
      "outputs": [
        {
          "output_type": "execute_result",
          "data": {
            "text/plain": [
              "ID                       0\n",
              "Name                     0\n",
              "Email                   19\n",
              "Phone Number             4\n",
              "Topic                    1\n",
              "Trainer                  5\n",
              "OverallSession         129\n",
              "TrainersKnoweldge      129\n",
              "TeachingStyle          131\n",
              "Descripive Feedback      0\n",
              "InterestedinCourse     124\n",
              "College Name           160\n",
              "dtype: int64"
            ]
          },
          "metadata": {
            "tags": []
          },
          "execution_count": 5
        }
      ]
    },
    {
      "cell_type": "code",
      "metadata": {
        "id": "1k46Y2yhhSTl"
      },
      "source": [
        "#df.dropna(inplace=True)"
      ],
      "execution_count": null,
      "outputs": []
    },
    {
      "cell_type": "code",
      "metadata": {
        "id": "8yPAoQnfnSJi"
      },
      "source": [
        "df['OverallSession'] = df['OverallSession'].replace({ 'excellent' : 1, 'very good': 2,'good': 3,'ok': 4,'poor':5})"
      ],
      "execution_count": null,
      "outputs": []
    },
    {
      "cell_type": "code",
      "metadata": {
        "id": "zgjwgTlwo_Xv"
      },
      "source": [
        "df['OverallSession']=df['OverallSession'].fillna(df['OverallSession'].mean())"
      ],
      "execution_count": null,
      "outputs": []
    },
    {
      "cell_type": "code",
      "metadata": {
        "colab": {
          "base_uri": "https://localhost:8080/"
        },
        "id": "VxO9ImPKLBco",
        "outputId": "2a0ef1de-b0e4-4491-dc1a-b6202eb0981c"
      },
      "source": [
        "df.isnull().sum()"
      ],
      "execution_count": null,
      "outputs": [
        {
          "output_type": "execute_result",
          "data": {
            "text/plain": [
              "ID                       0\n",
              "Name                     0\n",
              "Email                   19\n",
              "Phone Number             4\n",
              "Topic                    1\n",
              "Trainer                  5\n",
              "OverallSession           0\n",
              "TrainersKnoweldge      129\n",
              "TeachingStyle          131\n",
              "Descripive Feedback      0\n",
              "InterestedinCourse     124\n",
              "College Name           160\n",
              "dtype: int64"
            ]
          },
          "metadata": {
            "tags": []
          },
          "execution_count": 8
        }
      ]
    },
    {
      "cell_type": "code",
      "metadata": {
        "colab": {
          "base_uri": "https://localhost:8080/"
        },
        "id": "lVek0yOVndO-",
        "outputId": "e76d1e56-ec1b-4927-c88a-15bba56826e5"
      },
      "source": [
        "print(df['OverallSession'])"
      ],
      "execution_count": null,
      "outputs": [
        {
          "output_type": "stream",
          "text": [
            "0      1.787879\n",
            "1      1.787879\n",
            "2      1.787879\n",
            "3      1.787879\n",
            "4      1.787879\n",
            "         ...   \n",
            "190    1.000000\n",
            "191    2.000000\n",
            "192    1.000000\n",
            "193    2.000000\n",
            "194    1.000000\n",
            "Name: OverallSession, Length: 195, dtype: float64\n"
          ],
          "name": "stdout"
        }
      ]
    },
    {
      "cell_type": "code",
      "metadata": {
        "id": "Ux2LVdGKMOpZ"
      },
      "source": [
        "df['TrainersKnoweldge'] = df['TrainersKnoweldge'].replace({ 'excellent' : 1, 'very good': 2,'good': 3,'ok': 4,'poor':5})"
      ],
      "execution_count": null,
      "outputs": []
    },
    {
      "cell_type": "code",
      "metadata": {
        "id": "MupmZi46NYvP"
      },
      "source": [
        "df['TrainersKnoweldge']=df['TrainersKnoweldge'].fillna(df['TrainersKnoweldge'].mean())"
      ],
      "execution_count": null,
      "outputs": []
    },
    {
      "cell_type": "code",
      "metadata": {
        "id": "TOL7IL8MNqhB"
      },
      "source": [
        "df['TeachingStyle'] = df['TeachingStyle'].replace({ 'excellent' : 1, 'very good': 2,'good': 3,'ok': 4,'poor':5})"
      ],
      "execution_count": null,
      "outputs": []
    },
    {
      "cell_type": "code",
      "metadata": {
        "id": "oEY9DMK2N4R5"
      },
      "source": [
        "df['TeachingStyle']=df['TeachingStyle'].fillna(df['TeachingStyle'].mean())"
      ],
      "execution_count": null,
      "outputs": []
    },
    {
      "cell_type": "code",
      "metadata": {
        "id": "KrDG0K9tOAH9"
      },
      "source": [
        "#df['InterestedinCourse'] = df['InterestedinCourse'].replace({ 'yes' : 1,'no': 0})"
      ],
      "execution_count": null,
      "outputs": []
    },
    {
      "cell_type": "code",
      "metadata": {
        "id": "X6-WepMwOTHF"
      },
      "source": [
        "#df['InterestedinCourse']=df['InterestedinCourse'].fillna(df['InterestedinCourse'].mean())"
      ],
      "execution_count": null,
      "outputs": []
    },
    {
      "cell_type": "code",
      "metadata": {
        "id": "f4emTAzBOmXe",
        "colab": {
          "base_uri": "https://localhost:8080/",
          "height": 295
        },
        "outputId": "78d0a9b9-e033-40ab-8a14-9dc33b403876"
      },
      "source": [
        "sns.countplot(x='OverallSession',data=df)\n",
        "plt.title(\"OverallSession\")\n",
        "plt.show()"
      ],
      "execution_count": null,
      "outputs": [
        {
          "output_type": "display_data",
          "data": {
            "image/png": "[encoded data removed]",
            "text/plain": [
              "<Figure size 432x288 with 1 Axes>"
            ]
          },
          "metadata": {
            "tags": [],
            "needs_background": "light"
          }
        }
      ]
    },
    {
      "cell_type": "code",
      "metadata": {
        "colab": {
          "base_uri": "https://localhost:8080/",
          "height": 295
        },
        "id": "DAGJSwxngPDr",
        "outputId": "5cc0f5f1-8cd8-447f-a2fa-4a1b141b558c"
      },
      "source": [
        "sns.countplot(x='InterestedinCourse',data=df)\n",
        "plt.title(\"InterestedinCourse\")\n",
        "plt.show()"
      ],
      "execution_count": null,
      "outputs": [
        {
          "output_type": "display_data",
          "data": {
            "image/png": "[encoded data removed]",
            "text/plain": [
              "<Figure size 432x288 with 1 Axes>"
            ]
          },
          "metadata": {
            "tags": [],
            "needs_background": "light"
          }
        }
      ]
    },
    {
      "cell_type": "code",
      "metadata": {
        "colab": {
          "base_uri": "https://localhost:8080/",
          "height": 295
        },
        "id": "-IuDU2e4gixy",
        "outputId": "da3f8d97-af05-45cc-e555-8daf794b0032"
      },
      "source": [
        "sns.countplot(x='TrainersKnoweldge',data=df)\n",
        "plt.title(\"TrainersKnoweldge\")\n",
        "plt.show()"
      ],
      "execution_count": null,
      "outputs": [
        {
          "output_type": "display_data",
          "data": {
            "image/png": "[encoded data removed]",
            "text/plain": [
              "<Figure size 432x288 with 1 Axes>"
            ]
          },
          "metadata": {
            "tags": [],
            "needs_background": "light"
          }
        }
      ]
    },
    {
      "cell_type": "code",
      "metadata": {
        "colab": {
          "base_uri": "https://localhost:8080/",
          "height": 295
        },
        "id": "iUv7ecUGhjOR",
        "outputId": "28e8f6e9-76d4-4cac-9752-90b39295ef84"
      },
      "source": [
        "sns.countplot(x='TeachingStyle',data=df)\n",
        "plt.title(\"TeachingStyle\")\n",
        "plt.show()"
      ],
      "execution_count": null,
      "outputs": [
        {
          "output_type": "display_data",
          "data": {
            "image/png": "[encoded data removed]",
            "text/plain": [
              "<Figure size 432x288 with 1 Axes>"
            ]
          },
          "metadata": {
            "tags": [],
            "needs_background": "light"
          }
        }
      ]
    },
    {
      "cell_type": "code",
      "metadata": {
        "colab": {
          "base_uri": "https://localhost:8080/"
        },
        "id": "YLiHSuS-fuxJ",
        "outputId": "07cc69ff-31c3-459c-9918-5c347e34bc17"
      },
      "source": [
        "print(df['TeachingStyle'])"
      ],
      "execution_count": null,
      "outputs": [
        {
          "output_type": "stream",
          "text": [
            "0      1.625\n",
            "1      1.625\n",
            "2      1.625\n",
            "3      1.625\n",
            "4      1.625\n",
            "       ...  \n",
            "190    1.000\n",
            "191    2.000\n",
            "192    1.000\n",
            "193    2.000\n",
            "194    1.000\n",
            "Name: TeachingStyle, Length: 195, dtype: float64\n"
          ],
          "name": "stdout"
        }
      ]
    },
    {
      "cell_type": "code",
      "metadata": {
        "colab": {
          "base_uri": "https://localhost:8080/"
        },
        "id": "10I8FG1Kcele",
        "outputId": "95911627-d125-42fb-eb7a-ba754a833692"
      },
      "source": [
        "df['TrainersKnoweldge'].value_counts(ascending=True)"
      ],
      "execution_count": null,
      "outputs": [
        {
          "output_type": "execute_result",
          "data": {
            "text/plain": [
              "3.000000      2\n",
              "4.000000      2\n",
              "2.000000     27\n",
              "1.000000     35\n",
              "1.560606    129\n",
              "Name: TrainersKnoweldge, dtype: int64"
            ]
          },
          "metadata": {
            "tags": []
          },
          "execution_count": 19
        }
      ]
    },
    {
      "cell_type": "code",
      "metadata": {
        "colab": {
          "base_uri": "https://localhost:8080/"
        },
        "id": "Da5gVqzMdkhF",
        "outputId": "2f149a43-331f-4d5d-b93c-38689f5bcef9"
      },
      "source": [
        "df['OverallSession'].value_counts(ascending=True)"
      ],
      "execution_count": null,
      "outputs": [
        {
          "output_type": "execute_result",
          "data": {
            "text/plain": [
              "4.000000      1\n",
              "3.000000     10\n",
              "1.000000     26\n",
              "2.000000     29\n",
              "1.787879    129\n",
              "Name: OverallSession, dtype: int64"
            ]
          },
          "metadata": {
            "tags": []
          },
          "execution_count": 20
        }
      ]
    },
    {
      "cell_type": "code",
      "metadata": {
        "colab": {
          "base_uri": "https://localhost:8080/"
        },
        "id": "kl5Mo54wd34_",
        "outputId": "c0a02918-b2c7-4bb5-b20d-f3e8720e89e2"
      },
      "source": [
        "df['TeachingStyle'].value_counts(ascending=True)"
      ],
      "execution_count": null,
      "outputs": [
        {
          "output_type": "execute_result",
          "data": {
            "text/plain": [
              "5.000      1\n",
              "4.000      1\n",
              "3.000      5\n",
              "2.000     23\n",
              "1.000     34\n",
              "1.625    131\n",
              "Name: TeachingStyle, dtype: int64"
            ]
          },
          "metadata": {
            "tags": []
          },
          "execution_count": 21
        }
      ]
    },
    {
      "cell_type": "code",
      "metadata": {
        "colab": {
          "base_uri": "https://localhost:8080/"
        },
        "id": "du1PjEf-eBr5",
        "outputId": "b147a893-44cc-4432-df97-0decb6de13b9"
      },
      "source": [
        "df['InterestedinCourse'].value_counts(ascending=True)"
      ],
      "execution_count": null,
      "outputs": [
        {
          "output_type": "execute_result",
          "data": {
            "text/plain": [
              "no      6\n",
              "yes    65\n",
              "Name: InterestedinCourse, dtype: int64"
            ]
          },
          "metadata": {
            "tags": []
          },
          "execution_count": 22
        }
      ]
    },
    {
      "cell_type": "code",
      "metadata": {
        "colab": {
          "base_uri": "https://localhost:8080/"
        },
        "id": "NrFLiml-x5Hi",
        "outputId": "ea7b3c90-1d48-4dfd-9652-a801eaf0b94c"
      },
      "source": [
        "print(df['Descripive Feedback'])"
      ],
      "execution_count": null,
      "outputs": [
        {
          "output_type": "stream",
          "text": [
            "0                                          Not mentioned\n",
            "1                                          Not mentioned\n",
            "2                                          Not mentioned\n",
            "3                                          Not mentioned\n",
            "4                                          Not mentioned\n",
            "                             ...                        \n",
            "190                            bring in more such topics\n",
            "191                 sharing his own experience knowledge\n",
            "192                                            very good\n",
            "193               kindly provide notes on topics covered\n",
            "194    i am clear about the topic and have fully unde...\n",
            "Name: Descripive Feedback, Length: 195, dtype: object\n"
          ],
          "name": "stdout"
        }
      ]
    },
    {
      "cell_type": "code",
      "metadata": {
        "id": "fpJ38hAS5_5C",
        "colab": {
          "base_uri": "https://localhost:8080/"
        },
        "outputId": "9d3c5aaa-8c5c-4aa8-9c1a-a0b900418ee3"
      },
      "source": [
        "df['Descripive Feedback'].value_counts(ascending=True)"
      ],
      "execution_count": null,
      "outputs": [
        {
          "output_type": "execute_result",
          "data": {
            "text/plain": [
              "good session                                                                                                     1\n",
              "i am clear about the topic and have fully understood                                                             1\n",
              "teaching style and knowledge of trainer is very good                                                             1\n",
              "would be better if trainer is prepared with slides.does a bit preparation .else a great session                  1\n",
              "mr.yogesh has deep knowledge in IoT learnt many new things.looking forward to attend many sessions like this     1\n",
              "                                                                                                                ..\n",
              "awesome                                                                                                          7\n",
              "informative                                                                                                      9\n",
              "exellent                                                                                                        15\n",
              "good                                                                                                            26\n",
              "Not mentioned                                                                                                   49\n",
              "Name: Descripive Feedback, Length: 83, dtype: int64"
            ]
          },
          "metadata": {
            "tags": []
          },
          "execution_count": 24
        }
      ]
    },
    {
      "cell_type": "code",
      "metadata": {
        "id": "67t6tvc1k91f"
      },
      "source": [
        "#nlp\n",
        "from collections import Counter\n",
        "import nltk\n",
        "import string\n",
        "from nltk.tokenize import word_tokenize\n",
        "import math"
      ],
      "execution_count": null,
      "outputs": []
    },
    {
      "cell_type": "code",
      "metadata": {
        "colab": {
          "base_uri": "https://localhost:8080/"
        },
        "id": "pTf45G8LqkKW",
        "outputId": "c3c0d0cf-ef63-4efb-d125-7aa30e3af5d1"
      },
      "source": [
        "import nltk\n",
        "nltk.download('punkt')\n"
      ],
      "execution_count": null,
      "outputs": [
        {
          "output_type": "stream",
          "text": [
            "[nltk_data] Downloading package punkt to /root/nltk_data...\n",
            "[nltk_data]   Unzipping tokenizers/punkt.zip.\n"
          ],
          "name": "stdout"
        },
        {
          "output_type": "execute_result",
          "data": {
            "text/plain": [
              "True"
            ]
          },
          "metadata": {
            "tags": []
          },
          "execution_count": 26
        }
      ]
    },
    {
      "cell_type": "code",
      "metadata": {
        "colab": {
          "base_uri": "https://localhost:8080/",
          "height": 17
        },
        "id": "pORbpVBwnr8n",
        "outputId": "4fd3b3fe-0c7d-495b-89cf-f6e928552833"
      },
      "source": [
        "from plotly import __version__\n",
        "from plotly.offline import download_plotlyjs, init_notebook_mode, plot, iplot\n",
        "import plotly.graph_objs as go\n",
        "\n",
        "init_notebook_mode(connected=True)\n"
      ],
      "execution_count": null,
      "outputs": [
        {
          "output_type": "display_data",
          "data": {
            "text/html": [
              "        <script type=\"text/javascript\">\n",
              "        window.PlotlyConfig = {MathJaxConfig: 'local'};\n",
              "        if (window.MathJax) {MathJax.Hub.Config({SVG: {font: \"STIX-Web\"}});}\n",
              "        if (typeof require !== 'undefined') {\n",
              "        require.undef(\"plotly\");\n",
              "        requirejs.config({\n",
              "            paths: {\n",
              "                'plotly': ['https://cdn.plot.ly/plotly-latest.min']\n",
              "            }\n",
              "        });\n",
              "        require(['plotly'], function(Plotly) {\n",
              "            window._Plotly = Plotly;\n",
              "        });\n",
              "        }\n",
              "        </script>\n",
              "        "
            ]
          },
          "metadata": {
            "tags": []
          }
        }
      ]
    },
    {
      "cell_type": "code",
      "metadata": {
        "colab": {
          "base_uri": "https://localhost:8080/"
        },
        "id": "8QpgaR1qoY-M",
        "outputId": "c6e763f0-8ba1-4344-ed32-23685701ec44"
      },
      "source": [
        "print(df.shape)\n",
        "df = df.drop_duplicates(subset=['Descripive Feedback'])\n",
        "print(df.shape)"
      ],
      "execution_count": null,
      "outputs": [
        {
          "output_type": "stream",
          "text": [
            "(195, 12)\n",
            "(83, 12)\n"
          ],
          "name": "stdout"
        }
      ]
    },
    {
      "cell_type": "code",
      "metadata": {
        "colab": {
          "base_uri": "https://localhost:8080/"
        },
        "id": "sqlc1si_ox3H",
        "outputId": "0d147ede-8a68-438b-8b35-49b237c44235"
      },
      "source": [
        "df['Descripive Feedback'].iloc[:196]"
      ],
      "execution_count": null,
      "outputs": [
        {
          "output_type": "execute_result",
          "data": {
            "text/plain": [
              "0                                          Not mentioned\n",
              "19                              It is really informative\n",
              "20                                           informative\n",
              "27                                          nice session\n",
              "28                                                  good\n",
              "                             ...                        \n",
              "186                    required notes of related session\n",
              "190                            bring in more such topics\n",
              "191                 sharing his own experience knowledge\n",
              "193               kindly provide notes on topics covered\n",
              "194    i am clear about the topic and have fully unde...\n",
              "Name: Descripive Feedback, Length: 83, dtype: object"
            ]
          },
          "metadata": {
            "tags": []
          },
          "execution_count": 29
        }
      ]
    },
    {
      "cell_type": "code",
      "metadata": {
        "colab": {
          "base_uri": "https://localhost:8080/"
        },
        "id": "p16eo4LvqVMQ",
        "outputId": "56d68807-5a86-47c7-892f-067a268dae4e"
      },
      "source": [
        "print(f\"type(df): {type(df)}\")\n",
        "print(f\"type(df['Descripive Feedback']): {type(df['Descripive Feedback'])}\")\n",
        "print(f\"type(df['Descripive Feedback'].iloc[195])): {type(df['Descripive Feedback'].iloc[len(df) - 1])}\")"
      ],
      "execution_count": null,
      "outputs": [
        {
          "output_type": "stream",
          "text": [
            "type(df): <class 'pandas.core.frame.DataFrame'>\n",
            "type(df['Descripive Feedback']): <class 'pandas.core.series.Series'>\n",
            "type(df['Descripive Feedback'].iloc[195])): <class 'str'>\n"
          ],
          "name": "stdout"
        }
      ]
    },
    {
      "cell_type": "code",
      "metadata": {
        "colab": {
          "base_uri": "https://localhost:8080/"
        },
        "id": "HGUqW7-8w1Xz",
        "outputId": "b675595b-4575-4665-9f13-96ebf7a1baf0"
      },
      "source": [
        "tokenized_feedback = [ word_tokenize(feedback, 'english', True) for feedback in df['Descripive Feedback'] ]\n",
        "print(f'len(tokenized_feedback): {len(tokenized_feedback)}')\n",
        "print(f'tokenized_feedback: {tokenized_feedback}')\n"
      ],
      "execution_count": null,
      "outputs": [
        {
          "output_type": "stream",
          "text": [
            "len(tokenized_feedback): 83\n",
            "tokenized_feedback: [['Not', 'mentioned'], ['It', 'is', 'really', 'informative'], ['informative'], ['nice', 'session'], ['good'], ['awesome'], ['good', 'very', 'good'], ['very', 'usefull'], ['bahut', 'hard'], ['helpfull'], ['usefull', 'and', 'knowledgeable'], ['knowledgeable', 'and', 'easy', 'to', 'understand'], ['exellent'], ['quite', 'informative'], ['concise'], ['good', 'worth', 'it'], ['interesting', 'and', 'knowledgeable'], ['knowledgeable'], ['nice', 'speaker'], ['good', 'speaker', 'learning', 'new', 'things'], ['so', 'many', 'things', 'learned', ',', 'best', 'sessions', 'ever'], ['it', 'was', 'nice', ',', 'speaker', 'was', 'exellent'], ['most', 'knowledgeable'], ['amazing'], ['good'], ['very', 'good'], ['nice', 'one'], ['nice'], ['amazing', 'teaching', 'and', 'understanding.presentation', 'is', 'excellent'], ['overall', 'session', 'was', 'excellent', 'and', 'understand', 'everything'], ['the', 'session', 'was', 'very', 'good', 'loves', 'the', 'way', 'he', 'explained', 'with', 'many', 'real', 'life', 'examples', 'andcase', 'study'], ['should', 'eleborate', 'the', 'topic'], ['technically', 'well', 'explained', ',', 'terms', 'were', 'explained.practical', 'also', 'explained', 'and', 'doubts', 'wwere', 'cleared'], ['overall', 'it', 'is', 'good'], ['session', 'was', 'good', 'and', 'sir', 'shared', 'additional', 'knowledge', 'which', 'helps', 'topractice', 'more'], ['both', 'practical', 'and', 'theory', 'session', 'were', 'good'], ['the', 'session', 'was', 'very', 'good', 'and', 'tools', 'shown', 'by', 'trainer', 'is', 'good'], ['explanation', 'was', 'given', 'properly', 'case', 'study', 'was', 'taught', '.terms', 'explained'], ['teaching', 'style', 'and', 'knowledge', 'of', 'trainer', 'is', 'very', 'good'], ['nice', 'teaching', 'style'], ['overall', 'it', 'is', 'very', 'good'], ['overall', 'session', 'was', 'good'], ['lecure', 'was', 'good', 'as', 'sir', 'shown', 'some', 'cases', 'happened', 'with', 'FIR', 'copy'], ['he', 'is', 'good', 'in', 'all', 'aspects', 'we', 'want', 'more', 'information', 'from', 'him'], ['overall', 'lecture', 'are', 'good', 'sir', 'teaching', 'very', 'technically', 'so', 'very', 'easy', 'to', 'understand'], ['session', 'was', 'good.all', 'points', 'have', 'been', 'cleared', 'with', 'help', 'of', 'small', 'examples', 'and', 'gives', 'detailed', 'lnowledge', 'of', 'every', 'thing'], ['teaching', 'is', 'good', 'so', 'we', 'can', 'understand', 'the', 'topic', 'well'], ['it', 'is', 'good', 'to', 'see', 'sir', 'is', 'working', 'hard', 'for', 'us', 'to', 'undertand', 'each', 'and', 'every', 'topic', 'deeply.the', 'practical', 'stuff', 'is', 'covered', 'very', 'well'], ['it', 'was', 'pretty', 'good', 'and', 'way', 'better', 'than', 'expected'], ['excellent', 'presentation', 'could', 'improve', 'by', 'being', 'a', 'less', 'slow', 'paced', 'overall', 'very', 'good'], ['lecture', 'was', 'very', 'good'], ['was', 'good', 'and', 'enjoyed', 'it'], ['good', 'session'], ['ovearall', 'session', 'is', 'very', 'good', 'and', 'teaching', 'style', 'is', 'excellent'], ['interesting', 'session', 'with', 'good', 'communication', 'and', 'conversation'], ['training', 'is', 'good', 'and', 'teachiing', 'method', 'is', 'easy', 'to', 'understand', 'for', 'overall', 'concepts'], ['knowledge', 'and', 'teaching', 'is', 'very', 'good'], ['lecture', 'was', 'good', 'sir', 'teaching', 'style', 'waas', 'friendly'], ['training', 'and', 'practical', 'presentation', 'is', 'best'], ['though', 'session', 'was', 'for', 'cryptocurrency', 'bitcoin', 'was', 'focussed', 'alot'], ['the', 'class', 'was', 'good', 'clear', 'explanation', 'interesting', 'topic'], ['very', 'nice'], ['interesting', 'with', 'new', 'ideas', 'and', 'technologies', 'currently', 'loading', 'in', 'industry', 'and', 'world'], ['i', 'would', 'love', 'to', 'attend', 'more', 'sessions', 'like', 'this', 'in', 'future'], ['great', 'session', 'love', 'to', 'hear', 'about', 'AI', 'digital', 'marketing'], ['enjoyed', 'the', 'way', 'his', 'knowledge', 'is', 'and', 'overall', 'he', 'has', 'achived.great', 'session'], ['mr.yogesh', 'has', 'deep', 'knowledge', 'in', 'IoT', 'learnt', 'many', 'new', 'things.looking', 'forward', 'to', 'attend', 'many', 'sessions', 'like', 'this'], ['good', 'knowledge', 'gain', 'about', 'IT', 'and', 'IoT', '.i', 'like', 'to', 'attend', 'this', 'type', 'of', 'lecture', 'in', 'futue'], ['session', 'was', 'great', 'i', 'like', 'understand', 'IoT', 'stuff', 'motivate', 'to', 'take', 'interest', 'in', 'IoT'], ['got', 'to', 'know', 'about', 'trainers', 'experience', 'in', 'industry', 'woolbe', 'looking', 'forward', 'to', 'such', 'lectures', 'in', 'future'], ['looking', 'forward', 'to', 'come', 'to', 'these', 'type', 'of', 'sessions', 'where', 'many', 'ideaas', 'and', 'knowledge', 'is', 'shared'], ['good', 'session', 'and', 'usefull', 'so', 'want', 'it', 'again'], ['helpfull', 'and', 'interactive', 'sessions'], ['very', 'good', 'knowlrdge', 'with', 'examples.very', 'interesting', '.'], ['very', 'good', 'session', '.enjoyed', 'it', '.learnt', 'so', 'many', 'things', 'about', 'online', 'earning'], ['session', 'was', 'too', 'good', 'everything', 'taught', 'was', 'perfect.PPT', 'was', 'good', 'and', 'interactive'], ['way', 'of', 'teaching', 'is', 'very', 'excellent', 'always', 'clears', 'doubts.dont', 'feel', 'boring.way', 'of', 'teaching', 'keeps', 'us', 'attentive', 'in', 'lecture'], ['would', 'be', 'better', 'if', 'trainer', 'is', 'prepared', 'with', 'slides.does', 'a', 'bit', 'preparation', '.else', 'a', 'great', 'session'], ['required', 'notes', 'of', 'related', 'session'], ['bring', 'in', 'more', 'such', 'topics'], ['sharing', 'his', 'own', 'experience', 'knowledge'], ['kindly', 'provide', 'notes', 'on', 'topics', 'covered'], ['i', 'am', 'clear', 'about', 'the', 'topic', 'and', 'have', 'fully', 'understood']]\n"
          ],
          "name": "stdout"
        }
      ]
    },
    {
      "cell_type": "code",
      "metadata": {
        "colab": {
          "base_uri": "https://localhost:8080/"
        },
        "id": "JPQRTZndzAIP",
        "outputId": "4885a680-85d2-4413-c70e-63326f24264d"
      },
      "source": [
        "import nltk\n",
        "nltk.download('averaged_perceptron_tagger')\n",
        "\n",
        "from nltk import pos_tag\n",
        "from nltk.stem import PorterStemmer\n",
        "\n",
        "pos_feedbacks = [ pos_tag(t_feedback) for t_feedback in tokenized_feedback ]\n",
        "print(f'len(pos_feedbacks): {len(pos_feedbacks)}')\n",
        "print(f'pos_feedbacks: {pos_feedbacks}')"
      ],
      "execution_count": null,
      "outputs": [
        {
          "output_type": "stream",
          "text": [
            "[nltk_data] Downloading package averaged_perceptron_tagger to\n",
            "[nltk_data]     /root/nltk_data...\n",
            "[nltk_data]   Package averaged_perceptron_tagger is already up-to-\n",
            "[nltk_data]       date!\n",
            "len(pos_feedbacks): 83\n",
            "pos_feedbacks: [[('Not', 'RB'), ('mentioned', 'VBN')], [('It', 'PRP'), ('is', 'VBZ'), ('really', 'RB'), ('informative', 'JJ')], [('informative', 'JJ')], [('nice', 'JJ'), ('session', 'NN')], [('good', 'JJ')], [('awesome', 'NN')], [('good', 'JJ'), ('very', 'RB'), ('good', 'JJ')], [('very', 'RB'), ('usefull', 'JJ')], [('bahut', 'RB'), ('hard', 'JJ')], [('helpfull', 'NN')], [('usefull', 'JJ'), ('and', 'CC'), ('knowledgeable', 'JJ')], [('knowledgeable', 'JJ'), ('and', 'CC'), ('easy', 'JJ'), ('to', 'TO'), ('understand', 'VB')], [('exellent', 'NN')], [('quite', 'RB'), ('informative', 'JJ')], [('concise', 'NN')], [('good', 'JJ'), ('worth', 'NN'), ('it', 'PRP')], [('interesting', 'NN'), ('and', 'CC'), ('knowledgeable', 'JJ')], [('knowledgeable', 'JJ')], [('nice', 'JJ'), ('speaker', 'NN')], [('good', 'JJ'), ('speaker', 'NN'), ('learning', 'VBG'), ('new', 'JJ'), ('things', 'NNS')], [('so', 'RB'), ('many', 'JJ'), ('things', 'NNS'), ('learned', 'VBD'), (',', ','), ('best', 'JJS'), ('sessions', 'NNS'), ('ever', 'RB')], [('it', 'PRP'), ('was', 'VBD'), ('nice', 'JJ'), (',', ','), ('speaker', 'NN'), ('was', 'VBD'), ('exellent', 'JJ')], [('most', 'RBS'), ('knowledgeable', 'JJ')], [('amazing', 'VBG')], [('good', 'JJ')], [('very', 'RB'), ('good', 'JJ')], [('nice', 'JJ'), ('one', 'CD')], [('nice', 'JJ')], [('amazing', 'VBG'), ('teaching', 'NN'), ('and', 'CC'), ('understanding.presentation', 'NN'), ('is', 'VBZ'), ('excellent', 'JJ')], [('overall', 'JJ'), ('session', 'NN'), ('was', 'VBD'), ('excellent', 'JJ'), ('and', 'CC'), ('understand', 'JJ'), ('everything', 'NN')], [('the', 'DT'), ('session', 'NN'), ('was', 'VBD'), ('very', 'RB'), ('good', 'JJ'), ('loves', 'NNS'), ('the', 'DT'), ('way', 'NN'), ('he', 'PRP'), ('explained', 'VBD'), ('with', 'IN'), ('many', 'JJ'), ('real', 'JJ'), ('life', 'NN'), ('examples', 'NNS'), ('andcase', 'VBP'), ('study', 'NN')], [('should', 'MD'), ('eleborate', 'VB'), ('the', 'DT'), ('topic', 'NN')], [('technically', 'RB'), ('well', 'RB'), ('explained', 'VBN'), (',', ','), ('terms', 'NNS'), ('were', 'VBD'), ('explained.practical', 'JJ'), ('also', 'RB'), ('explained', 'VBD'), ('and', 'CC'), ('doubts', 'NNS'), ('wwere', 'RB'), ('cleared', 'VBD')], [('overall', 'JJ'), ('it', 'PRP'), ('is', 'VBZ'), ('good', 'JJ')], [('session', 'NN'), ('was', 'VBD'), ('good', 'JJ'), ('and', 'CC'), ('sir', 'JJ'), ('shared', 'VBN'), ('additional', 'JJ'), ('knowledge', 'NN'), ('which', 'WDT'), ('helps', 'VBZ'), ('topractice', 'RB'), ('more', 'RBR')], [('both', 'DT'), ('practical', 'JJ'), ('and', 'CC'), ('theory', 'JJ'), ('session', 'NN'), ('were', 'VBD'), ('good', 'JJ')], [('the', 'DT'), ('session', 'NN'), ('was', 'VBD'), ('very', 'RB'), ('good', 'JJ'), ('and', 'CC'), ('tools', 'NNS'), ('shown', 'VBN'), ('by', 'IN'), ('trainer', 'NN'), ('is', 'VBZ'), ('good', 'JJ')], [('explanation', 'NN'), ('was', 'VBD'), ('given', 'VBN'), ('properly', 'RB'), ('case', 'NN'), ('study', 'NN'), ('was', 'VBD'), ('taught', 'JJ'), ('.terms', 'NNS'), ('explained', 'VBD')], [('teaching', 'VBG'), ('style', 'NN'), ('and', 'CC'), ('knowledge', 'NN'), ('of', 'IN'), ('trainer', 'NN'), ('is', 'VBZ'), ('very', 'RB'), ('good', 'JJ')], [('nice', 'JJ'), ('teaching', 'NN'), ('style', 'NN')], [('overall', 'JJ'), ('it', 'PRP'), ('is', 'VBZ'), ('very', 'RB'), ('good', 'JJ')], [('overall', 'JJ'), ('session', 'NN'), ('was', 'VBD'), ('good', 'JJ')], [('lecure', 'NN'), ('was', 'VBD'), ('good', 'JJ'), ('as', 'IN'), ('sir', 'NN'), ('shown', 'VBN'), ('some', 'DT'), ('cases', 'NNS'), ('happened', 'VBD'), ('with', 'IN'), ('FIR', 'NNP'), ('copy', 'NN')], [('he', 'PRP'), ('is', 'VBZ'), ('good', 'JJ'), ('in', 'IN'), ('all', 'DT'), ('aspects', 'NNS'), ('we', 'PRP'), ('want', 'VBP'), ('more', 'JJR'), ('information', 'NN'), ('from', 'IN'), ('him', 'PRP')], [('overall', 'JJ'), ('lecture', 'NN'), ('are', 'VBP'), ('good', 'JJ'), ('sir', 'NN'), ('teaching', 'VBG'), ('very', 'RB'), ('technically', 'RB'), ('so', 'RB'), ('very', 'RB'), ('easy', 'JJ'), ('to', 'TO'), ('understand', 'VB')], [('session', 'NN'), ('was', 'VBD'), ('good.all', 'JJ'), ('points', 'NNS'), ('have', 'VBP'), ('been', 'VBN'), ('cleared', 'VBN'), ('with', 'IN'), ('help', 'NN'), ('of', 'IN'), ('small', 'JJ'), ('examples', 'NNS'), ('and', 'CC'), ('gives', 'VBZ'), ('detailed', 'JJ'), ('lnowledge', 'NN'), ('of', 'IN'), ('every', 'DT'), ('thing', 'NN')], [('teaching', 'NN'), ('is', 'VBZ'), ('good', 'JJ'), ('so', 'IN'), ('we', 'PRP'), ('can', 'MD'), ('understand', 'VB'), ('the', 'DT'), ('topic', 'NN'), ('well', 'RB')], [('it', 'PRP'), ('is', 'VBZ'), ('good', 'JJ'), ('to', 'TO'), ('see', 'VB'), ('sir', 'NN'), ('is', 'VBZ'), ('working', 'VBG'), ('hard', 'RB'), ('for', 'IN'), ('us', 'PRP'), ('to', 'TO'), ('undertand', 'VB'), ('each', 'DT'), ('and', 'CC'), ('every', 'DT'), ('topic', 'NN'), ('deeply.the', 'VBZ'), ('practical', 'JJ'), ('stuff', 'NN'), ('is', 'VBZ'), ('covered', 'VBN'), ('very', 'RB'), ('well', 'RB')], [('it', 'PRP'), ('was', 'VBD'), ('pretty', 'RB'), ('good', 'JJ'), ('and', 'CC'), ('way', 'NN'), ('better', 'JJR'), ('than', 'IN'), ('expected', 'VBN')], [('excellent', 'JJ'), ('presentation', 'NN'), ('could', 'MD'), ('improve', 'VB'), ('by', 'IN'), ('being', 'VBG'), ('a', 'DT'), ('less', 'RBR'), ('slow', 'JJ'), ('paced', 'VBD'), ('overall', 'JJ'), ('very', 'RB'), ('good', 'JJ')], [('lecture', 'NN'), ('was', 'VBD'), ('very', 'RB'), ('good', 'JJ')], [('was', 'VBD'), ('good', 'JJ'), ('and', 'CC'), ('enjoyed', 'VBD'), ('it', 'PRP')], [('good', 'JJ'), ('session', 'NN')], [('ovearall', 'DT'), ('session', 'NN'), ('is', 'VBZ'), ('very', 'RB'), ('good', 'JJ'), ('and', 'CC'), ('teaching', 'JJ'), ('style', 'NN'), ('is', 'VBZ'), ('excellent', 'JJ')], [('interesting', 'VBG'), ('session', 'NN'), ('with', 'IN'), ('good', 'JJ'), ('communication', 'NN'), ('and', 'CC'), ('conversation', 'NN')], [('training', 'NN'), ('is', 'VBZ'), ('good', 'JJ'), ('and', 'CC'), ('teachiing', 'VBG'), ('method', 'NN'), ('is', 'VBZ'), ('easy', 'JJ'), ('to', 'TO'), ('understand', 'VB'), ('for', 'IN'), ('overall', 'JJ'), ('concepts', 'NNS')], [('knowledge', 'NN'), ('and', 'CC'), ('teaching', 'NN'), ('is', 'VBZ'), ('very', 'RB'), ('good', 'JJ')], [('lecture', 'NN'), ('was', 'VBD'), ('good', 'JJ'), ('sir', 'NN'), ('teaching', 'VBG'), ('style', 'NN'), ('waas', 'NNS'), ('friendly', 'RB')], [('training', 'NN'), ('and', 'CC'), ('practical', 'JJ'), ('presentation', 'NN'), ('is', 'VBZ'), ('best', 'RBS')], [('though', 'IN'), ('session', 'NN'), ('was', 'VBD'), ('for', 'IN'), ('cryptocurrency', 'NN'), ('bitcoin', 'NN'), ('was', 'VBD'), ('focussed', 'VBN'), ('alot', 'NN')], [('the', 'DT'), ('class', 'NN'), ('was', 'VBD'), ('good', 'JJ'), ('clear', 'JJ'), ('explanation', 'NN'), ('interesting', 'VBG'), ('topic', 'NN')], [('very', 'RB'), ('nice', 'JJ')], [('interesting', 'VBG'), ('with', 'IN'), ('new', 'JJ'), ('ideas', 'NNS'), ('and', 'CC'), ('technologies', 'NNS'), ('currently', 'RB'), ('loading', 'VBG'), ('in', 'IN'), ('industry', 'NN'), ('and', 'CC'), ('world', 'NN')], [('i', 'NN'), ('would', 'MD'), ('love', 'VB'), ('to', 'TO'), ('attend', 'VB'), ('more', 'JJR'), ('sessions', 'NNS'), ('like', 'IN'), ('this', 'DT'), ('in', 'IN'), ('future', 'JJ')], [('great', 'JJ'), ('session', 'NN'), ('love', 'NN'), ('to', 'TO'), ('hear', 'VB'), ('about', 'IN'), ('AI', 'NNP'), ('digital', 'JJ'), ('marketing', 'NN')], [('enjoyed', 'VBN'), ('the', 'DT'), ('way', 'NN'), ('his', 'PRP$'), ('knowledge', 'NN'), ('is', 'VBZ'), ('and', 'CC'), ('overall', 'JJ'), ('he', 'PRP'), ('has', 'VBZ'), ('achived.great', 'NN'), ('session', 'NN')], [('mr.yogesh', 'NN'), ('has', 'VBZ'), ('deep', 'JJ'), ('knowledge', 'NN'), ('in', 'IN'), ('IoT', 'NNP'), ('learnt', 'VBD'), ('many', 'JJ'), ('new', 'JJ'), ('things.looking', 'VBG'), ('forward', 'NN'), ('to', 'TO'), ('attend', 'VB'), ('many', 'JJ'), ('sessions', 'NNS'), ('like', 'IN'), ('this', 'DT')], [('good', 'JJ'), ('knowledge', 'NN'), ('gain', 'NN'), ('about', 'IN'), ('IT', 'NNP'), ('and', 'CC'), ('IoT', 'NNP'), ('.i', 'NNP'), ('like', 'IN'), ('to', 'TO'), ('attend', 'VB'), ('this', 'DT'), ('type', 'NN'), ('of', 'IN'), ('lecture', 'NN'), ('in', 'IN'), ('futue', 'NN')], [('session', 'NN'), ('was', 'VBD'), ('great', 'JJ'), ('i', 'NN'), ('like', 'IN'), ('understand', 'JJ'), ('IoT', 'NNP'), ('stuff', 'NN'), ('motivate', 'NN'), ('to', 'TO'), ('take', 'VB'), ('interest', 'NN'), ('in', 'IN'), ('IoT', 'NNP')], [('got', 'VBD'), ('to', 'TO'), ('know', 'VB'), ('about', 'IN'), ('trainers', 'NNS'), ('experience', 'NN'), ('in', 'IN'), ('industry', 'NN'), ('woolbe', 'NN'), ('looking', 'VBG'), ('forward', 'RB'), ('to', 'TO'), ('such', 'JJ'), ('lectures', 'NNS'), ('in', 'IN'), ('future', 'JJ')], [('looking', 'VBG'), ('forward', 'RB'), ('to', 'TO'), ('come', 'VB'), ('to', 'TO'), ('these', 'DT'), ('type', 'NN'), ('of', 'IN'), ('sessions', 'NNS'), ('where', 'WRB'), ('many', 'JJ'), ('ideaas', 'NN'), ('and', 'CC'), ('knowledge', 'NN'), ('is', 'VBZ'), ('shared', 'VBN')], [('good', 'JJ'), ('session', 'NN'), ('and', 'CC'), ('usefull', 'JJ'), ('so', 'RB'), ('want', 'VBP'), ('it', 'PRP'), ('again', 'RB')], [('helpfull', 'NN'), ('and', 'CC'), ('interactive', 'JJ'), ('sessions', 'NNS')], [('very', 'RB'), ('good', 'JJ'), ('knowlrdge', 'NN'), ('with', 'IN'), ('examples.very', 'NN'), ('interesting', 'NN'), ('.', '.')], [('very', 'RB'), ('good', 'JJ'), ('session', 'NN'), ('.enjoyed', 'VBD'), ('it', 'PRP'), ('.learnt', 'NNP'), ('so', 'RB'), ('many', 'JJ'), ('things', 'NNS'), ('about', 'IN'), ('online', 'NN'), ('earning', 'NN')], [('session', 'NN'), ('was', 'VBD'), ('too', 'RB'), ('good', 'JJ'), ('everything', 'NN'), ('taught', 'NN'), ('was', 'VBD'), ('perfect.PPT', 'NN'), ('was', 'VBD'), ('good', 'JJ'), ('and', 'CC'), ('interactive', 'JJ')], [('way', 'NN'), ('of', 'IN'), ('teaching', 'NN'), ('is', 'VBZ'), ('very', 'RB'), ('excellent', 'JJ'), ('always', 'RB'), ('clears', 'VBZ'), ('doubts.dont', 'JJ'), ('feel', 'VB'), ('boring.way', 'NN'), ('of', 'IN'), ('teaching', 'VBG'), ('keeps', 'NNS'), ('us', 'PRP'), ('attentive', 'VBP'), ('in', 'IN'), ('lecture', 'NN')], [('would', 'MD'), ('be', 'VB'), ('better', 'JJR'), ('if', 'IN'), ('trainer', 'NN'), ('is', 'VBZ'), ('prepared', 'VBN'), ('with', 'IN'), ('slides.does', 'NNS'), ('a', 'DT'), ('bit', 'NN'), ('preparation', 'NN'), ('.else', 'FW'), ('a', 'DT'), ('great', 'JJ'), ('session', 'NN')], [('required', 'VBN'), ('notes', 'NNS'), ('of', 'IN'), ('related', 'JJ'), ('session', 'NN')], [('bring', 'NN'), ('in', 'IN'), ('more', 'RBR'), ('such', 'JJ'), ('topics', 'NNS')], [('sharing', 'VBG'), ('his', 'PRP$'), ('own', 'JJ'), ('experience', 'NN'), ('knowledge', 'NN')], [('kindly', 'RB'), ('provide', 'JJ'), ('notes', 'NNS'), ('on', 'IN'), ('topics', 'NNS'), ('covered', 'VBN')], [('i', 'NN'), ('am', 'VBP'), ('clear', 'JJ'), ('about', 'IN'), ('the', 'DT'), ('topic', 'NN'), ('and', 'CC'), ('have', 'VBP'), ('fully', 'RB'), ('understood', 'VBN')]]\n"
          ],
          "name": "stdout"
        }
      ]
    },
    {
      "cell_type": "code",
      "metadata": {
        "id": "m8hOpnsn1lQd"
      },
      "source": [
        "from textblob import TextBlob\n",
        "\n",
        "# WordCloud - Python linrary for creating image wordclouds\n",
        "from wordcloud import WordCloud\n",
        "\n",
        "# Pandas - Data manipulation and analysis library\n",
        "import pandas as pd\n",
        "\n",
        "# NumPy - mathematical functions on multi-dimensional arrays and matrices\n",
        "import numpy as np\n",
        "\n",
        "# Regular Expression Python module\n",
        "import re\n",
        "\n",
        "# Matplotlib - plotting library to create graphs and charts\n",
        "import matplotlib.pyplot as plt\n",
        "\n",
        "# Settings for Matplotlib graphs and charts\n",
        "from pylab import rcParams\n",
        "rcParams['figure.figsize'] = 12, 8\n"
      ],
      "execution_count": null,
      "outputs": []
    },
    {
      "cell_type": "code",
      "metadata": {
        "id": "vM5bzR3RAse5"
      },
      "source": [
        "def getTextSubjectivity(txt):\n",
        "    return TextBlob(txt).sentiment.subjectivity\n",
        "\n",
        "def getTextPolarity(txt):\n",
        "    return TextBlob(txt).sentiment.polarity"
      ],
      "execution_count": null,
      "outputs": []
    },
    {
      "cell_type": "code",
      "metadata": {
        "id": "l113oYTdCnof"
      },
      "source": [
        "df['Subjectivity'] = df['Descripive Feedback'].apply(getTextSubjectivity)\n",
        "df['Polarity'] = df['Descripive Feedback'].apply(getTextPolarity)"
      ],
      "execution_count": null,
      "outputs": []
    },
    {
      "cell_type": "code",
      "metadata": {
        "colab": {
          "base_uri": "https://localhost:8080/",
          "height": 330
        },
        "id": "e9AkuD3aEcLD",
        "outputId": "e63d2e3f-ae0b-4846-d71c-e17ca1780f27"
      },
      "source": [
        "df.head()"
      ],
      "execution_count": null,
      "outputs": [
        {
          "output_type": "execute_result",
          "data": {
            "text/html": [
              "<div>\n",
              "<style scoped>\n",
              "    .dataframe tbody tr th:only-of-type {\n",
              "        vertical-align: middle;\n",
              "    }\n",
              "\n",
              "    .dataframe tbody tr th {\n",
              "        vertical-align: top;\n",
              "    }\n",
              "\n",
              "    .dataframe thead th {\n",
              "        text-align: right;\n",
              "    }\n",
              "</style>\n",
              "<table border=\"1\" class=\"dataframe\">\n",
              "  <thead>\n",
              "    <tr style=\"text-align: right;\">\n",
              "      <th></th>\n",
              "      <th>ID</th>\n",
              "      <th>Name</th>\n",
              "      <th>Email</th>\n",
              "      <th>Phone Number</th>\n",
              "      <th>Topic</th>\n",
              "      <th>Trainer</th>\n",
              "      <th>OverallSession</th>\n",
              "      <th>TrainersKnoweldge</th>\n",
              "      <th>TeachingStyle</th>\n",
              "      <th>Descripive Feedback</th>\n",
              "      <th>InterestedinCourse</th>\n",
              "      <th>College Name</th>\n",
              "      <th>Subjectivity</th>\n",
              "      <th>Polarity</th>\n",
              "    </tr>\n",
              "  </thead>\n",
              "  <tbody>\n",
              "    <tr>\n",
              "      <th>0</th>\n",
              "      <td>1</td>\n",
              "      <td>Snehal Nighot</td>\n",
              "      <td>snehalnighot3@gmail.com</td>\n",
              "      <td>8.450916e+09</td>\n",
              "      <td>Ethical Hacking</td>\n",
              "      <td>Rizwan Shaikh</td>\n",
              "      <td>1.787879</td>\n",
              "      <td>1.560606</td>\n",
              "      <td>1.625</td>\n",
              "      <td>Not mentioned</td>\n",
              "      <td>yes</td>\n",
              "      <td>Western College</td>\n",
              "      <td>0.0</td>\n",
              "      <td>0.0</td>\n",
              "    </tr>\n",
              "    <tr>\n",
              "      <th>19</th>\n",
              "      <td>20</td>\n",
              "      <td>abhishek Jaiswal</td>\n",
              "      <td>NaN</td>\n",
              "      <td>9.664621e+09</td>\n",
              "      <td>Ethical Hacking</td>\n",
              "      <td>Rizwan Shaikh</td>\n",
              "      <td>1.787879</td>\n",
              "      <td>1.560606</td>\n",
              "      <td>1.625</td>\n",
              "      <td>It is really informative</td>\n",
              "      <td>yes</td>\n",
              "      <td>NaN</td>\n",
              "      <td>0.2</td>\n",
              "      <td>0.2</td>\n",
              "    </tr>\n",
              "    <tr>\n",
              "      <th>20</th>\n",
              "      <td>21</td>\n",
              "      <td>suyash kadam</td>\n",
              "      <td>NaN</td>\n",
              "      <td>9.768685e+09</td>\n",
              "      <td>Ethical Hacking</td>\n",
              "      <td>Rizwan Shaikh</td>\n",
              "      <td>1.787879</td>\n",
              "      <td>1.560606</td>\n",
              "      <td>1.625</td>\n",
              "      <td>informative</td>\n",
              "      <td>yes</td>\n",
              "      <td>NaN</td>\n",
              "      <td>0.0</td>\n",
              "      <td>0.0</td>\n",
              "    </tr>\n",
              "    <tr>\n",
              "      <th>27</th>\n",
              "      <td>28</td>\n",
              "      <td>Raghuveer Dubey</td>\n",
              "      <td>RaghuveerDubey17@gmail</td>\n",
              "      <td>7.045308e+09</td>\n",
              "      <td>Ethical Hacking</td>\n",
              "      <td>Rizwan Shaikh</td>\n",
              "      <td>1.787879</td>\n",
              "      <td>1.560606</td>\n",
              "      <td>1.625</td>\n",
              "      <td>nice session</td>\n",
              "      <td>yes</td>\n",
              "      <td>WCCBM</td>\n",
              "      <td>1.0</td>\n",
              "      <td>0.6</td>\n",
              "    </tr>\n",
              "    <tr>\n",
              "      <th>28</th>\n",
              "      <td>29</td>\n",
              "      <td>omkar ware</td>\n",
              "      <td>onkarware63@gmail.com</td>\n",
              "      <td>8.390122e+08</td>\n",
              "      <td>Ethical Hacking</td>\n",
              "      <td>Rizwan Shaikh</td>\n",
              "      <td>1.787879</td>\n",
              "      <td>1.560606</td>\n",
              "      <td>1.625</td>\n",
              "      <td>good</td>\n",
              "      <td>yes</td>\n",
              "      <td>WCCBM</td>\n",
              "      <td>0.6</td>\n",
              "      <td>0.7</td>\n",
              "    </tr>\n",
              "  </tbody>\n",
              "</table>\n",
              "</div>"
            ],
            "text/plain": [
              "    ID              Name  ... Subjectivity  Polarity\n",
              "0    1     Snehal Nighot  ...          0.0       0.0\n",
              "19  20  abhishek Jaiswal  ...          0.2       0.2\n",
              "20  21      suyash kadam  ...          0.0       0.0\n",
              "27  28   Raghuveer Dubey  ...          1.0       0.6\n",
              "28  29        omkar ware  ...          0.6       0.7\n",
              "\n",
              "[5 rows x 14 columns]"
            ]
          },
          "metadata": {
            "tags": []
          },
          "execution_count": 37
        }
      ]
    },
    {
      "cell_type": "code",
      "metadata": {
        "id": "Jk9zbUEiEezy"
      },
      "source": [
        "df = df.drop(df[df['Descripive Feedback'] == ''].index)"
      ],
      "execution_count": null,
      "outputs": []
    },
    {
      "cell_type": "code",
      "metadata": {
        "id": "ak3dSJSgE8cd"
      },
      "source": [
        "# negative, nautral, positive analysis\n",
        "def getTextAnalysis(a):\n",
        "    if a < 0:\n",
        "        return \"Negative\"\n",
        "    elif a == 0:\n",
        "        return \"Neutral\"\n",
        "    else:\n",
        "        return \"Positive\""
      ],
      "execution_count": null,
      "outputs": []
    },
    {
      "cell_type": "code",
      "metadata": {
        "id": "3uJLjAz4FPus"
      },
      "source": [
        "df['Score'] = df['Polarity'].apply(getTextAnalysis)"
      ],
      "execution_count": null,
      "outputs": []
    },
    {
      "cell_type": "code",
      "metadata": {
        "colab": {
          "base_uri": "https://localhost:8080/",
          "height": 1000
        },
        "id": "vMgk4EjqFV37",
        "outputId": "138313d0-ce97-4f47-c6d8-dfa64085c08a"
      },
      "source": [
        "df.head(50)"
      ],
      "execution_count": null,
      "outputs": [
        {
          "output_type": "execute_result",
          "data": {
            "text/html": [
              "<div>\n",
              "<style scoped>\n",
              "    .dataframe tbody tr th:only-of-type {\n",
              "        vertical-align: middle;\n",
              "    }\n",
              "\n",
              "    .dataframe tbody tr th {\n",
              "        vertical-align: top;\n",
              "    }\n",
              "\n",
              "    .dataframe thead th {\n",
              "        text-align: right;\n",
              "    }\n",
              "</style>\n",
              "<table border=\"1\" class=\"dataframe\">\n",
              "  <thead>\n",
              "    <tr style=\"text-align: right;\">\n",
              "      <th></th>\n",
              "      <th>ID</th>\n",
              "      <th>Name</th>\n",
              "      <th>Email</th>\n",
              "      <th>Phone Number</th>\n",
              "      <th>Topic</th>\n",
              "      <th>Trainer</th>\n",
              "      <th>OverallSession</th>\n",
              "      <th>TrainersKnoweldge</th>\n",
              "      <th>TeachingStyle</th>\n",
              "      <th>Descripive Feedback</th>\n",
              "      <th>InterestedinCourse</th>\n",
              "      <th>College Name</th>\n",
              "      <th>Subjectivity</th>\n",
              "      <th>Polarity</th>\n",
              "      <th>Score</th>\n",
              "    </tr>\n",
              "  </thead>\n",
              "  <tbody>\n",
              "    <tr>\n",
              "      <th>0</th>\n",
              "      <td>1</td>\n",
              "      <td>Snehal Nighot</td>\n",
              "      <td>snehalnighot3@gmail.com</td>\n",
              "      <td>8.450916e+09</td>\n",
              "      <td>Ethical Hacking</td>\n",
              "      <td>Rizwan Shaikh</td>\n",
              "      <td>1.787879</td>\n",
              "      <td>1.560606</td>\n",
              "      <td>1.625</td>\n",
              "      <td>Not mentioned</td>\n",
              "      <td>yes</td>\n",
              "      <td>Western College</td>\n",
              "      <td>0.000000</td>\n",
              "      <td>0.000000</td>\n",
              "      <td>Neutral</td>\n",
              "    </tr>\n",
              "    <tr>\n",
              "      <th>19</th>\n",
              "      <td>20</td>\n",
              "      <td>abhishek Jaiswal</td>\n",
              "      <td>NaN</td>\n",
              "      <td>9.664621e+09</td>\n",
              "      <td>Ethical Hacking</td>\n",
              "      <td>Rizwan Shaikh</td>\n",
              "      <td>1.787879</td>\n",
              "      <td>1.560606</td>\n",
              "      <td>1.625</td>\n",
              "      <td>It is really informative</td>\n",
              "      <td>yes</td>\n",
              "      <td>NaN</td>\n",
              "      <td>0.200000</td>\n",
              "      <td>0.200000</td>\n",
              "      <td>Positive</td>\n",
              "    </tr>\n",
              "    <tr>\n",
              "      <th>20</th>\n",
              "      <td>21</td>\n",
              "      <td>suyash kadam</td>\n",
              "      <td>NaN</td>\n",
              "      <td>9.768685e+09</td>\n",
              "      <td>Ethical Hacking</td>\n",
              "      <td>Rizwan Shaikh</td>\n",
              "      <td>1.787879</td>\n",
              "      <td>1.560606</td>\n",
              "      <td>1.625</td>\n",
              "      <td>informative</td>\n",
              "      <td>yes</td>\n",
              "      <td>NaN</td>\n",
              "      <td>0.000000</td>\n",
              "      <td>0.000000</td>\n",
              "      <td>Neutral</td>\n",
              "    </tr>\n",
              "    <tr>\n",
              "      <th>27</th>\n",
              "      <td>28</td>\n",
              "      <td>Raghuveer Dubey</td>\n",
              "      <td>RaghuveerDubey17@gmail</td>\n",
              "      <td>7.045308e+09</td>\n",
              "      <td>Ethical Hacking</td>\n",
              "      <td>Rizwan Shaikh</td>\n",
              "      <td>1.787879</td>\n",
              "      <td>1.560606</td>\n",
              "      <td>1.625</td>\n",
              "      <td>nice session</td>\n",
              "      <td>yes</td>\n",
              "      <td>WCCBM</td>\n",
              "      <td>1.000000</td>\n",
              "      <td>0.600000</td>\n",
              "      <td>Positive</td>\n",
              "    </tr>\n",
              "    <tr>\n",
              "      <th>28</th>\n",
              "      <td>29</td>\n",
              "      <td>omkar ware</td>\n",
              "      <td>onkarware63@gmail.com</td>\n",
              "      <td>8.390122e+08</td>\n",
              "      <td>Ethical Hacking</td>\n",
              "      <td>Rizwan Shaikh</td>\n",
              "      <td>1.787879</td>\n",
              "      <td>1.560606</td>\n",
              "      <td>1.625</td>\n",
              "      <td>good</td>\n",
              "      <td>yes</td>\n",
              "      <td>WCCBM</td>\n",
              "      <td>0.600000</td>\n",
              "      <td>0.700000</td>\n",
              "      <td>Positive</td>\n",
              "    </tr>\n",
              "    <tr>\n",
              "      <th>32</th>\n",
              "      <td>33</td>\n",
              "      <td>ankit sharma</td>\n",
              "      <td>sharmaankit0606@gmail.com</td>\n",
              "      <td>9.167209e+09</td>\n",
              "      <td>Ethical Hacking</td>\n",
              "      <td>Rizwan Shaikh</td>\n",
              "      <td>1.787879</td>\n",
              "      <td>1.560606</td>\n",
              "      <td>1.625</td>\n",
              "      <td>awesome</td>\n",
              "      <td>yes</td>\n",
              "      <td>WCCBM</td>\n",
              "      <td>1.000000</td>\n",
              "      <td>1.000000</td>\n",
              "      <td>Positive</td>\n",
              "    </tr>\n",
              "    <tr>\n",
              "      <th>52</th>\n",
              "      <td>53</td>\n",
              "      <td>vishakha</td>\n",
              "      <td>NaN</td>\n",
              "      <td>8.928368e+09</td>\n",
              "      <td>Ethical Hacking</td>\n",
              "      <td>Rizwan Shaikh</td>\n",
              "      <td>1.787879</td>\n",
              "      <td>1.560606</td>\n",
              "      <td>1.625</td>\n",
              "      <td>good very good</td>\n",
              "      <td>NaN</td>\n",
              "      <td>NaN</td>\n",
              "      <td>0.690000</td>\n",
              "      <td>0.805000</td>\n",
              "      <td>Positive</td>\n",
              "    </tr>\n",
              "    <tr>\n",
              "      <th>60</th>\n",
              "      <td>61</td>\n",
              "      <td>shams mansoor</td>\n",
              "      <td>NaN</td>\n",
              "      <td>9.892608e+09</td>\n",
              "      <td>Ethical Hacking</td>\n",
              "      <td>Rizwan Shaikh</td>\n",
              "      <td>1.787879</td>\n",
              "      <td>1.560606</td>\n",
              "      <td>1.625</td>\n",
              "      <td>very usefull</td>\n",
              "      <td>NaN</td>\n",
              "      <td>NaN</td>\n",
              "      <td>0.300000</td>\n",
              "      <td>0.200000</td>\n",
              "      <td>Positive</td>\n",
              "    </tr>\n",
              "    <tr>\n",
              "      <th>65</th>\n",
              "      <td>66</td>\n",
              "      <td>adityasingh</td>\n",
              "      <td>NaN</td>\n",
              "      <td>8.104396e+09</td>\n",
              "      <td>Ethical Hacking</td>\n",
              "      <td>Rizwan Shaikh</td>\n",
              "      <td>1.787879</td>\n",
              "      <td>1.560606</td>\n",
              "      <td>1.625</td>\n",
              "      <td>bahut hard</td>\n",
              "      <td>NaN</td>\n",
              "      <td>NaN</td>\n",
              "      <td>0.541667</td>\n",
              "      <td>-0.291667</td>\n",
              "      <td>Negative</td>\n",
              "    </tr>\n",
              "    <tr>\n",
              "      <th>68</th>\n",
              "      <td>69</td>\n",
              "      <td>salman shaikh</td>\n",
              "      <td>salman9819432941@gmail.com</td>\n",
              "      <td>9.819433e+09</td>\n",
              "      <td>Ethical Hacking</td>\n",
              "      <td>Rizwan Shaikh</td>\n",
              "      <td>1.787879</td>\n",
              "      <td>1.560606</td>\n",
              "      <td>1.625</td>\n",
              "      <td>helpfull</td>\n",
              "      <td>yes</td>\n",
              "      <td>NaN</td>\n",
              "      <td>0.000000</td>\n",
              "      <td>0.000000</td>\n",
              "      <td>Neutral</td>\n",
              "    </tr>\n",
              "    <tr>\n",
              "      <th>69</th>\n",
              "      <td>70</td>\n",
              "      <td>asai prathmesh</td>\n",
              "      <td>asaiprathamesh2000@gmail.com</td>\n",
              "      <td>9.820896e+09</td>\n",
              "      <td>Ethical Hacking</td>\n",
              "      <td>Rizwan Shaikh</td>\n",
              "      <td>1.787879</td>\n",
              "      <td>1.560606</td>\n",
              "      <td>1.625</td>\n",
              "      <td>usefull and knowledgeable</td>\n",
              "      <td>yes</td>\n",
              "      <td>NaN</td>\n",
              "      <td>0.000000</td>\n",
              "      <td>0.000000</td>\n",
              "      <td>Neutral</td>\n",
              "    </tr>\n",
              "    <tr>\n",
              "      <th>73</th>\n",
              "      <td>74</td>\n",
              "      <td>laxmi reddy</td>\n",
              "      <td>prasannareddymukku@gmail.com</td>\n",
              "      <td>8.976648e+09</td>\n",
              "      <td>Ethical Hacking</td>\n",
              "      <td>Rizwan Shaikh</td>\n",
              "      <td>1.787879</td>\n",
              "      <td>1.560606</td>\n",
              "      <td>1.625</td>\n",
              "      <td>knowledgeable and easy to understand</td>\n",
              "      <td>yes</td>\n",
              "      <td>NaN</td>\n",
              "      <td>0.833333</td>\n",
              "      <td>0.433333</td>\n",
              "      <td>Positive</td>\n",
              "    </tr>\n",
              "    <tr>\n",
              "      <th>78</th>\n",
              "      <td>79</td>\n",
              "      <td>pratap khandwan</td>\n",
              "      <td>pratapkvithal@gmail.com</td>\n",
              "      <td>8.652600e+09</td>\n",
              "      <td>Ethical Hacking</td>\n",
              "      <td>Rizwan Shaikh</td>\n",
              "      <td>1.787879</td>\n",
              "      <td>1.560606</td>\n",
              "      <td>1.625</td>\n",
              "      <td>exellent</td>\n",
              "      <td>yes</td>\n",
              "      <td>NaN</td>\n",
              "      <td>0.000000</td>\n",
              "      <td>0.000000</td>\n",
              "      <td>Neutral</td>\n",
              "    </tr>\n",
              "    <tr>\n",
              "      <th>81</th>\n",
              "      <td>82</td>\n",
              "      <td>bharath iyer</td>\n",
              "      <td>bharath2081@gmail.com</td>\n",
              "      <td>8.369892e+09</td>\n",
              "      <td>Ethical Hacking</td>\n",
              "      <td>Rizwan Shaikh</td>\n",
              "      <td>1.787879</td>\n",
              "      <td>1.560606</td>\n",
              "      <td>1.625</td>\n",
              "      <td>quite informative</td>\n",
              "      <td>yes</td>\n",
              "      <td>NaN</td>\n",
              "      <td>0.000000</td>\n",
              "      <td>0.000000</td>\n",
              "      <td>Neutral</td>\n",
              "    </tr>\n",
              "    <tr>\n",
              "      <th>82</th>\n",
              "      <td>83</td>\n",
              "      <td>tejas suryakumar</td>\n",
              "      <td>tejas.suryakumar@gmail.com</td>\n",
              "      <td>8.476858e+09</td>\n",
              "      <td>Ethical Hacking</td>\n",
              "      <td>Rizwan Shaikh</td>\n",
              "      <td>1.787879</td>\n",
              "      <td>1.560606</td>\n",
              "      <td>1.625</td>\n",
              "      <td>concise</td>\n",
              "      <td>yes</td>\n",
              "      <td>NaN</td>\n",
              "      <td>0.600000</td>\n",
              "      <td>0.100000</td>\n",
              "      <td>Positive</td>\n",
              "    </tr>\n",
              "    <tr>\n",
              "      <th>83</th>\n",
              "      <td>84</td>\n",
              "      <td>alfio fernando</td>\n",
              "      <td>alfiomary5@gmail.com</td>\n",
              "      <td>8.828274e+09</td>\n",
              "      <td>Ethical Hacking</td>\n",
              "      <td>Rizwan Shaikh</td>\n",
              "      <td>1.787879</td>\n",
              "      <td>1.560606</td>\n",
              "      <td>1.625</td>\n",
              "      <td>good worth it</td>\n",
              "      <td>no</td>\n",
              "      <td>NaN</td>\n",
              "      <td>0.350000</td>\n",
              "      <td>0.500000</td>\n",
              "      <td>Positive</td>\n",
              "    </tr>\n",
              "    <tr>\n",
              "      <th>90</th>\n",
              "      <td>91</td>\n",
              "      <td>ajaypadayachi</td>\n",
              "      <td>ajaypadayachinokia@gmail.com</td>\n",
              "      <td>8.169182e+09</td>\n",
              "      <td>Ethical Hacking</td>\n",
              "      <td>Rizwan Shaikh</td>\n",
              "      <td>1.787879</td>\n",
              "      <td>1.560606</td>\n",
              "      <td>1.625</td>\n",
              "      <td>interesting and  knowledgeable</td>\n",
              "      <td>yes</td>\n",
              "      <td>NaN</td>\n",
              "      <td>0.500000</td>\n",
              "      <td>0.500000</td>\n",
              "      <td>Positive</td>\n",
              "    </tr>\n",
              "    <tr>\n",
              "      <th>91</th>\n",
              "      <td>92</td>\n",
              "      <td>vijay mahate</td>\n",
              "      <td>vijaymahate2000@gmail.com</td>\n",
              "      <td>8.369938e+09</td>\n",
              "      <td>Ethical Hacking</td>\n",
              "      <td>Rizwan Shaikh</td>\n",
              "      <td>1.787879</td>\n",
              "      <td>1.560606</td>\n",
              "      <td>1.625</td>\n",
              "      <td>knowledgeable</td>\n",
              "      <td>yes</td>\n",
              "      <td>NaN</td>\n",
              "      <td>0.000000</td>\n",
              "      <td>0.000000</td>\n",
              "      <td>Neutral</td>\n",
              "    </tr>\n",
              "    <tr>\n",
              "      <th>95</th>\n",
              "      <td>96</td>\n",
              "      <td>pratik magar</td>\n",
              "      <td>pratikmagar1111666@gmail.com</td>\n",
              "      <td>8.454556e+10</td>\n",
              "      <td>Ethical Hacking</td>\n",
              "      <td>Rizwan Shaikh</td>\n",
              "      <td>1.787879</td>\n",
              "      <td>1.560606</td>\n",
              "      <td>1.625</td>\n",
              "      <td>nice speaker</td>\n",
              "      <td>NaN</td>\n",
              "      <td>WCCBM</td>\n",
              "      <td>1.000000</td>\n",
              "      <td>0.600000</td>\n",
              "      <td>Positive</td>\n",
              "    </tr>\n",
              "    <tr>\n",
              "      <th>98</th>\n",
              "      <td>99</td>\n",
              "      <td>nilam bansode</td>\n",
              "      <td>nil.bansode06@gmail.com</td>\n",
              "      <td>8.976457e+09</td>\n",
              "      <td>Ethical Hacking</td>\n",
              "      <td>Rizwan Shaikh</td>\n",
              "      <td>1.787879</td>\n",
              "      <td>1.560606</td>\n",
              "      <td>1.625</td>\n",
              "      <td>good speaker learning new things</td>\n",
              "      <td>NaN</td>\n",
              "      <td>KBP</td>\n",
              "      <td>0.527273</td>\n",
              "      <td>0.418182</td>\n",
              "      <td>Positive</td>\n",
              "    </tr>\n",
              "    <tr>\n",
              "      <th>101</th>\n",
              "      <td>102</td>\n",
              "      <td>geeta patil</td>\n",
              "      <td>geetapatil1104@gmail.com</td>\n",
              "      <td>8.424996e+09</td>\n",
              "      <td>Ethical Hacking</td>\n",
              "      <td>Rizwan Shaikh</td>\n",
              "      <td>1.787879</td>\n",
              "      <td>1.560606</td>\n",
              "      <td>1.625</td>\n",
              "      <td>so many things learned,best sessions ever</td>\n",
              "      <td>NaN</td>\n",
              "      <td>NaN</td>\n",
              "      <td>0.500000</td>\n",
              "      <td>0.500000</td>\n",
              "      <td>Positive</td>\n",
              "    </tr>\n",
              "    <tr>\n",
              "      <th>102</th>\n",
              "      <td>103</td>\n",
              "      <td>shaila bhalerao</td>\n",
              "      <td>bhaleraoshaila@gmail.com</td>\n",
              "      <td>9.967603e+09</td>\n",
              "      <td>Ethical Hacking</td>\n",
              "      <td>Rizwan Shaikh</td>\n",
              "      <td>1.787879</td>\n",
              "      <td>1.560606</td>\n",
              "      <td>1.625</td>\n",
              "      <td>it was nice,speaker was exellent</td>\n",
              "      <td>NaN</td>\n",
              "      <td>NaN</td>\n",
              "      <td>0.000000</td>\n",
              "      <td>0.000000</td>\n",
              "      <td>Neutral</td>\n",
              "    </tr>\n",
              "    <tr>\n",
              "      <th>103</th>\n",
              "      <td>104</td>\n",
              "      <td>hemantkumar mohite</td>\n",
              "      <td>mohitehemant41@gmail.com</td>\n",
              "      <td>8.080140e+09</td>\n",
              "      <td>Ethical Hacking</td>\n",
              "      <td>Rizwan Shaikh</td>\n",
              "      <td>1.787879</td>\n",
              "      <td>1.560606</td>\n",
              "      <td>1.625</td>\n",
              "      <td>most knowledgeable</td>\n",
              "      <td>NaN</td>\n",
              "      <td>NaN</td>\n",
              "      <td>0.500000</td>\n",
              "      <td>0.500000</td>\n",
              "      <td>Positive</td>\n",
              "    </tr>\n",
              "    <tr>\n",
              "      <th>110</th>\n",
              "      <td>111</td>\n",
              "      <td>Anjali Rewale</td>\n",
              "      <td>anjalirewale75@gmail.com</td>\n",
              "      <td>8.976504e+09</td>\n",
              "      <td>Ethical Hacking</td>\n",
              "      <td>Rizwan Shaikh</td>\n",
              "      <td>1.787879</td>\n",
              "      <td>1.560606</td>\n",
              "      <td>1.625</td>\n",
              "      <td>amazing</td>\n",
              "      <td>NaN</td>\n",
              "      <td>NaN</td>\n",
              "      <td>0.900000</td>\n",
              "      <td>0.600000</td>\n",
              "      <td>Positive</td>\n",
              "    </tr>\n",
              "    <tr>\n",
              "      <th>111</th>\n",
              "      <td>112</td>\n",
              "      <td>rusti</td>\n",
              "      <td>singhrusti@gmail.com</td>\n",
              "      <td>9.820477e+09</td>\n",
              "      <td>Ethical Hacking</td>\n",
              "      <td>Rizwan Shaikh</td>\n",
              "      <td>1.787879</td>\n",
              "      <td>1.560606</td>\n",
              "      <td>1.625</td>\n",
              "      <td>good</td>\n",
              "      <td>NaN</td>\n",
              "      <td>NaN</td>\n",
              "      <td>0.600000</td>\n",
              "      <td>0.700000</td>\n",
              "      <td>Positive</td>\n",
              "    </tr>\n",
              "    <tr>\n",
              "      <th>113</th>\n",
              "      <td>114</td>\n",
              "      <td>kishna</td>\n",
              "      <td>krishbera@gmail.com</td>\n",
              "      <td>8.454936e+09</td>\n",
              "      <td>Ethical Hacking</td>\n",
              "      <td>Rizwan Shaikh</td>\n",
              "      <td>1.787879</td>\n",
              "      <td>1.560606</td>\n",
              "      <td>1.625</td>\n",
              "      <td>very good</td>\n",
              "      <td>NaN</td>\n",
              "      <td>NaN</td>\n",
              "      <td>0.780000</td>\n",
              "      <td>0.910000</td>\n",
              "      <td>Positive</td>\n",
              "    </tr>\n",
              "    <tr>\n",
              "      <th>122</th>\n",
              "      <td>123</td>\n",
              "      <td>ambanna reddy</td>\n",
              "      <td>ramureddyvashi@gmail.com</td>\n",
              "      <td>9.221194e+10</td>\n",
              "      <td>Ethical Hacking</td>\n",
              "      <td>Rizwan Shaikh</td>\n",
              "      <td>1.787879</td>\n",
              "      <td>1.560606</td>\n",
              "      <td>1.625</td>\n",
              "      <td>nice one</td>\n",
              "      <td>NaN</td>\n",
              "      <td>NaN</td>\n",
              "      <td>1.000000</td>\n",
              "      <td>0.600000</td>\n",
              "      <td>Positive</td>\n",
              "    </tr>\n",
              "    <tr>\n",
              "      <th>127</th>\n",
              "      <td>128</td>\n",
              "      <td>arjun patel</td>\n",
              "      <td>beraarjunmanji05@gmail.com</td>\n",
              "      <td>7.678007e+09</td>\n",
              "      <td>Ethical Hacking</td>\n",
              "      <td>Rizwan Shaikh</td>\n",
              "      <td>1.787879</td>\n",
              "      <td>1.560606</td>\n",
              "      <td>1.625</td>\n",
              "      <td>nice</td>\n",
              "      <td>NaN</td>\n",
              "      <td>NaN</td>\n",
              "      <td>1.000000</td>\n",
              "      <td>0.600000</td>\n",
              "      <td>Positive</td>\n",
              "    </tr>\n",
              "    <tr>\n",
              "      <th>129</th>\n",
              "      <td>130</td>\n",
              "      <td>Bhushan Kharate</td>\n",
              "      <td>bhushankharate123@gmail.com</td>\n",
              "      <td>9.136731e+09</td>\n",
              "      <td>CISEH</td>\n",
              "      <td>Girish Sir</td>\n",
              "      <td>2.000000</td>\n",
              "      <td>2.000000</td>\n",
              "      <td>1.000</td>\n",
              "      <td>amazing teaching and understanding.presentatio...</td>\n",
              "      <td>NaN</td>\n",
              "      <td>NaN</td>\n",
              "      <td>0.950000</td>\n",
              "      <td>0.800000</td>\n",
              "      <td>Positive</td>\n",
              "    </tr>\n",
              "    <tr>\n",
              "      <th>130</th>\n",
              "      <td>131</td>\n",
              "      <td>Namit Patil</td>\n",
              "      <td>NaN</td>\n",
              "      <td>8.652393e+09</td>\n",
              "      <td>Cyber Crime Cases &amp; Reporting</td>\n",
              "      <td>Girish Sir</td>\n",
              "      <td>1.000000</td>\n",
              "      <td>1.000000</td>\n",
              "      <td>1.000</td>\n",
              "      <td>overall session was excellent and understand e...</td>\n",
              "      <td>NaN</td>\n",
              "      <td>NaN</td>\n",
              "      <td>0.500000</td>\n",
              "      <td>0.500000</td>\n",
              "      <td>Positive</td>\n",
              "    </tr>\n",
              "    <tr>\n",
              "      <th>131</th>\n",
              "      <td>132</td>\n",
              "      <td>Mahesh Mhatre</td>\n",
              "      <td>maheshmhatre02@gmail.com</td>\n",
              "      <td>8.007059e+09</td>\n",
              "      <td>Cyber Crime Cases &amp; Reporting</td>\n",
              "      <td>Girish Sir</td>\n",
              "      <td>2.000000</td>\n",
              "      <td>1.000000</td>\n",
              "      <td>1.000</td>\n",
              "      <td>the session was very good loves the way he exp...</td>\n",
              "      <td>NaN</td>\n",
              "      <td>NaN</td>\n",
              "      <td>0.526667</td>\n",
              "      <td>0.536667</td>\n",
              "      <td>Positive</td>\n",
              "    </tr>\n",
              "    <tr>\n",
              "      <th>132</th>\n",
              "      <td>133</td>\n",
              "      <td>Prathamesh Dhumal</td>\n",
              "      <td>dhumal.prathamesh5@gmail.com</td>\n",
              "      <td>9.664337e+09</td>\n",
              "      <td>Cyber Law &amp; Crime</td>\n",
              "      <td>Girish Sir</td>\n",
              "      <td>2.000000</td>\n",
              "      <td>1.000000</td>\n",
              "      <td>1.000</td>\n",
              "      <td>should eleborate the topic</td>\n",
              "      <td>NaN</td>\n",
              "      <td>NaN</td>\n",
              "      <td>0.000000</td>\n",
              "      <td>0.000000</td>\n",
              "      <td>Neutral</td>\n",
              "    </tr>\n",
              "    <tr>\n",
              "      <th>133</th>\n",
              "      <td>134</td>\n",
              "      <td>Akash Gupta</td>\n",
              "      <td>akashbeatbox@gmail.com</td>\n",
              "      <td>9.167557e+09</td>\n",
              "      <td>Sniffing</td>\n",
              "      <td>Farhan Sir</td>\n",
              "      <td>3.000000</td>\n",
              "      <td>2.000000</td>\n",
              "      <td>2.000</td>\n",
              "      <td>technically well explained,terms were explaine...</td>\n",
              "      <td>NaN</td>\n",
              "      <td>NaN</td>\n",
              "      <td>0.100000</td>\n",
              "      <td>0.000000</td>\n",
              "      <td>Neutral</td>\n",
              "    </tr>\n",
              "    <tr>\n",
              "      <th>135</th>\n",
              "      <td>136</td>\n",
              "      <td>Harshad Rupawate</td>\n",
              "      <td>harshadrupawate@gmail.com</td>\n",
              "      <td>8.850101e+09</td>\n",
              "      <td>Sniffing</td>\n",
              "      <td>Farhan Sir</td>\n",
              "      <td>3.000000</td>\n",
              "      <td>2.000000</td>\n",
              "      <td>2.000</td>\n",
              "      <td>overall it is good</td>\n",
              "      <td>NaN</td>\n",
              "      <td>NaN</td>\n",
              "      <td>0.300000</td>\n",
              "      <td>0.350000</td>\n",
              "      <td>Positive</td>\n",
              "    </tr>\n",
              "    <tr>\n",
              "      <th>136</th>\n",
              "      <td>137</td>\n",
              "      <td>Mohad Kohari</td>\n",
              "      <td>moikohari17@gmail.com</td>\n",
              "      <td>9.762780e+09</td>\n",
              "      <td>Sniffing</td>\n",
              "      <td>Farhan Sir</td>\n",
              "      <td>3.000000</td>\n",
              "      <td>2.000000</td>\n",
              "      <td>1.000</td>\n",
              "      <td>session was good and sir shared additional kno...</td>\n",
              "      <td>NaN</td>\n",
              "      <td>NaN</td>\n",
              "      <td>0.550000</td>\n",
              "      <td>0.600000</td>\n",
              "      <td>Positive</td>\n",
              "    </tr>\n",
              "    <tr>\n",
              "      <th>137</th>\n",
              "      <td>138</td>\n",
              "      <td>Jatinder Singh</td>\n",
              "      <td>jsnghsaini1897@gmail.com</td>\n",
              "      <td>9.892449e+09</td>\n",
              "      <td>Sniffing</td>\n",
              "      <td>Farhan Sir</td>\n",
              "      <td>2.000000</td>\n",
              "      <td>2.000000</td>\n",
              "      <td>2.000</td>\n",
              "      <td>both practical and theory session were good</td>\n",
              "      <td>NaN</td>\n",
              "      <td>NaN</td>\n",
              "      <td>0.600000</td>\n",
              "      <td>0.700000</td>\n",
              "      <td>Positive</td>\n",
              "    </tr>\n",
              "    <tr>\n",
              "      <th>138</th>\n",
              "      <td>139</td>\n",
              "      <td>Prathamesh Pawar</td>\n",
              "      <td>pawarprathamesh62@gmail.com</td>\n",
              "      <td>8.976499e+09</td>\n",
              "      <td>Sniffing</td>\n",
              "      <td>Farhan Sir</td>\n",
              "      <td>2.000000</td>\n",
              "      <td>2.000000</td>\n",
              "      <td>2.000</td>\n",
              "      <td>the session was very good and tools shown by t...</td>\n",
              "      <td>NaN</td>\n",
              "      <td>NaN</td>\n",
              "      <td>0.690000</td>\n",
              "      <td>0.805000</td>\n",
              "      <td>Positive</td>\n",
              "    </tr>\n",
              "    <tr>\n",
              "      <th>139</th>\n",
              "      <td>140</td>\n",
              "      <td>Utkarsha Bamane</td>\n",
              "      <td>utkarshabamane121@gmail.com</td>\n",
              "      <td>7.021305e+09</td>\n",
              "      <td>Cyber Crime</td>\n",
              "      <td>Girish Sir</td>\n",
              "      <td>2.000000</td>\n",
              "      <td>2.000000</td>\n",
              "      <td>2.000</td>\n",
              "      <td>explanation was given properly case study was ...</td>\n",
              "      <td>NaN</td>\n",
              "      <td>NaN</td>\n",
              "      <td>0.100000</td>\n",
              "      <td>0.000000</td>\n",
              "      <td>Neutral</td>\n",
              "    </tr>\n",
              "    <tr>\n",
              "      <th>140</th>\n",
              "      <td>141</td>\n",
              "      <td>Prathamesh Pawar</td>\n",
              "      <td>pawarprathamesh62@gmail.com</td>\n",
              "      <td>8.976499e+09</td>\n",
              "      <td>Cyber Crime</td>\n",
              "      <td>Girish Sir</td>\n",
              "      <td>2.000000</td>\n",
              "      <td>1.000000</td>\n",
              "      <td>1.000</td>\n",
              "      <td>teaching style and knowledge of trainer is ver...</td>\n",
              "      <td>NaN</td>\n",
              "      <td>NaN</td>\n",
              "      <td>0.780000</td>\n",
              "      <td>0.910000</td>\n",
              "      <td>Positive</td>\n",
              "    </tr>\n",
              "    <tr>\n",
              "      <th>141</th>\n",
              "      <td>142</td>\n",
              "      <td>Akash Gupta</td>\n",
              "      <td>akashbeatbox@gmail.com</td>\n",
              "      <td>9.167557e+09</td>\n",
              "      <td>Cyber Crime</td>\n",
              "      <td>Girish Sir</td>\n",
              "      <td>1.000000</td>\n",
              "      <td>1.000000</td>\n",
              "      <td>1.000</td>\n",
              "      <td>nice teaching style</td>\n",
              "      <td>NaN</td>\n",
              "      <td>NaN</td>\n",
              "      <td>1.000000</td>\n",
              "      <td>0.600000</td>\n",
              "      <td>Positive</td>\n",
              "    </tr>\n",
              "    <tr>\n",
              "      <th>142</th>\n",
              "      <td>143</td>\n",
              "      <td>Harshad Rupawate</td>\n",
              "      <td>harshadrupawate@gmail.com</td>\n",
              "      <td>8.850101e+09</td>\n",
              "      <td>Cyber Crime</td>\n",
              "      <td>Girish Sir</td>\n",
              "      <td>3.000000</td>\n",
              "      <td>2.000000</td>\n",
              "      <td>2.000</td>\n",
              "      <td>overall it is very good</td>\n",
              "      <td>NaN</td>\n",
              "      <td>NaN</td>\n",
              "      <td>0.390000</td>\n",
              "      <td>0.455000</td>\n",
              "      <td>Positive</td>\n",
              "    </tr>\n",
              "    <tr>\n",
              "      <th>143</th>\n",
              "      <td>144</td>\n",
              "      <td>Jatinder Singh</td>\n",
              "      <td>jsnghsaini1897@gmail.com</td>\n",
              "      <td>9.892449e+09</td>\n",
              "      <td>Cyber Crime</td>\n",
              "      <td>Girish Sir</td>\n",
              "      <td>1.000000</td>\n",
              "      <td>1.000000</td>\n",
              "      <td>1.000</td>\n",
              "      <td>overall session was good</td>\n",
              "      <td>NaN</td>\n",
              "      <td>NaN</td>\n",
              "      <td>0.300000</td>\n",
              "      <td>0.350000</td>\n",
              "      <td>Positive</td>\n",
              "    </tr>\n",
              "    <tr>\n",
              "      <th>144</th>\n",
              "      <td>145</td>\n",
              "      <td>Mohd Kohari</td>\n",
              "      <td>moikohari17@gmail.com</td>\n",
              "      <td>9.762780e+09</td>\n",
              "      <td>Cyber Crime</td>\n",
              "      <td>Girish Sir</td>\n",
              "      <td>2.000000</td>\n",
              "      <td>1.000000</td>\n",
              "      <td>2.000</td>\n",
              "      <td>lecure was good as sir shown some cases happen...</td>\n",
              "      <td>NaN</td>\n",
              "      <td>NaN</td>\n",
              "      <td>0.600000</td>\n",
              "      <td>0.700000</td>\n",
              "      <td>Positive</td>\n",
              "    </tr>\n",
              "    <tr>\n",
              "      <th>145</th>\n",
              "      <td>146</td>\n",
              "      <td>Ajay</td>\n",
              "      <td>pamireddyajaykumarreddy@gmail.com</td>\n",
              "      <td>7.207670e+09</td>\n",
              "      <td>Network</td>\n",
              "      <td>Aniket Sir</td>\n",
              "      <td>3.000000</td>\n",
              "      <td>3.000000</td>\n",
              "      <td>2.000</td>\n",
              "      <td>he  is good in all aspects we want more inform...</td>\n",
              "      <td>NaN</td>\n",
              "      <td>NaN</td>\n",
              "      <td>0.550000</td>\n",
              "      <td>0.600000</td>\n",
              "      <td>Positive</td>\n",
              "    </tr>\n",
              "    <tr>\n",
              "      <th>146</th>\n",
              "      <td>147</td>\n",
              "      <td>Sayali More</td>\n",
              "      <td>sayalim895@gmail.com</td>\n",
              "      <td>8.419984e+09</td>\n",
              "      <td>DNS</td>\n",
              "      <td>Aniket Sir</td>\n",
              "      <td>3.000000</td>\n",
              "      <td>2.000000</td>\n",
              "      <td>3.000</td>\n",
              "      <td>overall lecture are good sir teaching very tec...</td>\n",
              "      <td>NaN</td>\n",
              "      <td>NaN</td>\n",
              "      <td>0.533333</td>\n",
              "      <td>0.421111</td>\n",
              "      <td>Positive</td>\n",
              "    </tr>\n",
              "    <tr>\n",
              "      <th>147</th>\n",
              "      <td>148</td>\n",
              "      <td>Reshma Pawar</td>\n",
              "      <td>reshma.pawar1089@gmail.com</td>\n",
              "      <td>7.718955e+09</td>\n",
              "      <td>DNS</td>\n",
              "      <td>Aniket Sir</td>\n",
              "      <td>2.000000</td>\n",
              "      <td>2.000000</td>\n",
              "      <td>2.000</td>\n",
              "      <td>session was good.all points have been cleared ...</td>\n",
              "      <td>NaN</td>\n",
              "      <td>NaN</td>\n",
              "      <td>0.575000</td>\n",
              "      <td>0.075000</td>\n",
              "      <td>Positive</td>\n",
              "    </tr>\n",
              "    <tr>\n",
              "      <th>148</th>\n",
              "      <td>149</td>\n",
              "      <td>Vaibhav Barkade</td>\n",
              "      <td>barkadevaibhav49@gmail.com</td>\n",
              "      <td>8.879204e+09</td>\n",
              "      <td>DNS, Whois</td>\n",
              "      <td>Aniket Sir</td>\n",
              "      <td>1.000000</td>\n",
              "      <td>1.000000</td>\n",
              "      <td>1.000</td>\n",
              "      <td>teaching is good so we can understand the topi...</td>\n",
              "      <td>NaN</td>\n",
              "      <td>NaN</td>\n",
              "      <td>0.600000</td>\n",
              "      <td>0.700000</td>\n",
              "      <td>Positive</td>\n",
              "    </tr>\n",
              "    <tr>\n",
              "      <th>149</th>\n",
              "      <td>150</td>\n",
              "      <td>Shahid Shaikh</td>\n",
              "      <td>xain960@gmail.com</td>\n",
              "      <td>9.870535e+09</td>\n",
              "      <td>DNS, CCN</td>\n",
              "      <td>Aniket Sir</td>\n",
              "      <td>1.000000</td>\n",
              "      <td>1.000000</td>\n",
              "      <td>1.000</td>\n",
              "      <td>it is good to see sir is working hard for us t...</td>\n",
              "      <td>NaN</td>\n",
              "      <td>NaN</td>\n",
              "      <td>0.480556</td>\n",
              "      <td>0.202778</td>\n",
              "      <td>Positive</td>\n",
              "    </tr>\n",
              "    <tr>\n",
              "      <th>150</th>\n",
              "      <td>151</td>\n",
              "      <td>Rishit Desai</td>\n",
              "      <td>rishit rokeshdesai@gmail.com</td>\n",
              "      <td>6.353711e+09</td>\n",
              "      <td>Ethical Hacking</td>\n",
              "      <td>Roshan Sir</td>\n",
              "      <td>1.000000</td>\n",
              "      <td>1.000000</td>\n",
              "      <td>1.000</td>\n",
              "      <td>it was pretty good and way better than expected</td>\n",
              "      <td>NaN</td>\n",
              "      <td>NaN</td>\n",
              "      <td>0.625000</td>\n",
              "      <td>0.337500</td>\n",
              "      <td>Positive</td>\n",
              "    </tr>\n",
              "    <tr>\n",
              "      <th>151</th>\n",
              "      <td>152</td>\n",
              "      <td>Sandeepan Dutta</td>\n",
              "      <td>sandeepandutta1999@gmail.com</td>\n",
              "      <td>8.335072e+09</td>\n",
              "      <td>Ethical Hacking</td>\n",
              "      <td>Roshan Sir</td>\n",
              "      <td>2.000000</td>\n",
              "      <td>2.000000</td>\n",
              "      <td>3.000</td>\n",
              "      <td>excellent presentation could improve by being ...</td>\n",
              "      <td>NaN</td>\n",
              "      <td>NaN</td>\n",
              "      <td>0.449333</td>\n",
              "      <td>0.288667</td>\n",
              "      <td>Positive</td>\n",
              "    </tr>\n",
              "  </tbody>\n",
              "</table>\n",
              "</div>"
            ],
            "text/plain": [
              "      ID                Name  ...  Polarity     Score\n",
              "0      1       Snehal Nighot  ...  0.000000   Neutral\n",
              "19    20    abhishek Jaiswal  ...  0.200000  Positive\n",
              "20    21        suyash kadam  ...  0.000000   Neutral\n",
              "27    28     Raghuveer Dubey  ...  0.600000  Positive\n",
              "28    29          omkar ware  ...  0.700000  Positive\n",
              "32    33        ankit sharma  ...  1.000000  Positive\n",
              "52    53            vishakha  ...  0.805000  Positive\n",
              "60    61       shams mansoor  ...  0.200000  Positive\n",
              "65    66         adityasingh  ... -0.291667  Negative\n",
              "68    69       salman shaikh  ...  0.000000   Neutral\n",
              "69    70      asai prathmesh  ...  0.000000   Neutral\n",
              "73    74         laxmi reddy  ...  0.433333  Positive\n",
              "78    79     pratap khandwan  ...  0.000000   Neutral\n",
              "81    82        bharath iyer  ...  0.000000   Neutral\n",
              "82    83    tejas suryakumar  ...  0.100000  Positive\n",
              "83    84      alfio fernando  ...  0.500000  Positive\n",
              "90    91       ajaypadayachi  ...  0.500000  Positive\n",
              "91    92        vijay mahate  ...  0.000000   Neutral\n",
              "95    96        pratik magar  ...  0.600000  Positive\n",
              "98    99       nilam bansode  ...  0.418182  Positive\n",
              "101  102         geeta patil  ...  0.500000  Positive\n",
              "102  103     shaila bhalerao  ...  0.000000   Neutral\n",
              "103  104  hemantkumar mohite  ...  0.500000  Positive\n",
              "110  111       Anjali Rewale  ...  0.600000  Positive\n",
              "111  112               rusti  ...  0.700000  Positive\n",
              "113  114              kishna  ...  0.910000  Positive\n",
              "122  123       ambanna reddy  ...  0.600000  Positive\n",
              "127  128         arjun patel  ...  0.600000  Positive\n",
              "129  130     Bhushan Kharate  ...  0.800000  Positive\n",
              "130  131         Namit Patil  ...  0.500000  Positive\n",
              "131  132       Mahesh Mhatre  ...  0.536667  Positive\n",
              "132  133   Prathamesh Dhumal  ...  0.000000   Neutral\n",
              "133  134         Akash Gupta  ...  0.000000   Neutral\n",
              "135  136    Harshad Rupawate  ...  0.350000  Positive\n",
              "136  137        Mohad Kohari  ...  0.600000  Positive\n",
              "137  138      Jatinder Singh  ...  0.700000  Positive\n",
              "138  139    Prathamesh Pawar  ...  0.805000  Positive\n",
              "139  140     Utkarsha Bamane  ...  0.000000   Neutral\n",
              "140  141    Prathamesh Pawar  ...  0.910000  Positive\n",
              "141  142         Akash Gupta  ...  0.600000  Positive\n",
              "142  143    Harshad Rupawate  ...  0.455000  Positive\n",
              "143  144      Jatinder Singh  ...  0.350000  Positive\n",
              "144  145         Mohd Kohari  ...  0.700000  Positive\n",
              "145  146               Ajay   ...  0.600000  Positive\n",
              "146  147         Sayali More  ...  0.421111  Positive\n",
              "147  148        Reshma Pawar  ...  0.075000  Positive\n",
              "148  149     Vaibhav Barkade  ...  0.700000  Positive\n",
              "149  150       Shahid Shaikh  ...  0.202778  Positive\n",
              "150  151        Rishit Desai  ...  0.337500  Positive\n",
              "151  152     Sandeepan Dutta  ...  0.288667  Positive\n",
              "\n",
              "[50 rows x 15 columns]"
            ]
          },
          "metadata": {
            "tags": []
          },
          "execution_count": 41
        }
      ]
    },
    {
      "cell_type": "code",
      "metadata": {
        "colab": {
          "base_uri": "https://localhost:8080/"
        },
        "id": "FOZmgPO_FZv-",
        "outputId": "21e221b0-606f-4ba7-cca5-4aa929bb94d9"
      },
      "source": [
        "positive = df[df['Score'] == 'Positive']\n",
        "\n",
        "print(str(positive.shape[0]/(df.shape[0])*100) + \" % of positive tweets\")"
      ],
      "execution_count": null,
      "outputs": [
        {
          "output_type": "stream",
          "text": [
            "80.72289156626506 % of positive tweets\n"
          ],
          "name": "stdout"
        }
      ]
    },
    {
      "cell_type": "code",
      "metadata": {
        "colab": {
          "base_uri": "https://localhost:8080/",
          "height": 513
        },
        "id": "TyiO-8hzHn5_",
        "outputId": "056d6185-2149-4c8b-ed66-2a04f8e881cc"
      },
      "source": [
        "sns.countplot(x='Score',data=df)\n",
        "plt.title(\"Score\")\n",
        "plt.show()"
      ],
      "execution_count": null,
      "outputs": [
        {
          "output_type": "display_data",
          "data": {
            "image/png": "[encoded data removed]",
            "text/plain": [
              "<Figure size 864x576 with 1 Axes>"
            ]
          },
          "metadata": {
            "tags": [],
            "needs_background": "light"
          }
        }
      ]
    },
    {
      "cell_type": "code",
      "metadata": {
        "colab": {
          "base_uri": "https://localhost:8080/",
          "height": 486
        },
        "id": "gDq6iJJeIAfD",
        "outputId": "425dd0c7-5601-494e-b61c-6a15ab4b1836"
      },
      "source": [
        "# Creating a word cloud\n",
        "words = ' '.join([analysis for analysis in df['Descripive Feedback']])\n",
        "wordCloud = WordCloud(width=600, height=400).generate(words)\n",
        "\n",
        "plt.imshow(wordCloud)\n",
        "plt.show()"
      ],
      "execution_count": null,
      "outputs": [
        {
          "output_type": "display_data",
          "data": {
            "image/png": "[encoded data removed]",
            "text/plain": [
              "<Figure size 864x576 with 1 Axes>"
            ]
          },
          "metadata": {
            "tags": [],
            "needs_background": "light"
          }
        }
      ]
    },
    {
      "cell_type": "code",
      "metadata": {
        "id": "3zjaImjaK0rH",
        "colab": {
          "base_uri": "https://localhost:8080/"
        },
        "outputId": "4486c240-afcb-436b-8878-9b00c3f9b401"
      },
      "source": [
        "#dashboard\n",
        "!pip install pandas"
      ],
      "execution_count": null,
      "outputs": [
        {
          "output_type": "stream",
          "text": [
            "Requirement already satisfied: pandas in /usr/local/lib/python3.7/dist-packages (1.1.5)\n",
            "Requirement already satisfied: numpy>=1.15.4 in /usr/local/lib/python3.7/dist-packages (from pandas) (1.19.5)\n",
            "Requirement already satisfied: pytz>=2017.2 in /usr/local/lib/python3.7/dist-packages (from pandas) (2018.9)\n",
            "Requirement already satisfied: python-dateutil>=2.7.3 in /usr/local/lib/python3.7/dist-packages (from pandas) (2.8.1)\n",
            "Requirement already satisfied: six>=1.5 in /usr/local/lib/python3.7/dist-packages (from python-dateutil>=2.7.3->pandas) (1.15.0)\n"
          ],
          "name": "stdout"
        }
      ]
    },
    {
      "cell_type": "code",
      "metadata": {
        "id": "PLHd4gzZmsP9",
        "colab": {
          "base_uri": "https://localhost:8080/"
        },
        "outputId": "b32c4f7a-030e-42eb-b7c5-fa7b75bfcf66"
      },
      "source": [
        "pip install plotly-express"
      ],
      "execution_count": null,
      "outputs": [
        {
          "output_type": "stream",
          "text": [
            "Collecting plotly-express\n",
            "  Downloading https://files.pythonhosted.org/packages/d4/d6/8a2906f51e073a4be80cab35cfa10e7a34853e60f3ed5304ac470852a08d/plotly_express-0.4.1-py2.py3-none-any.whl\n",
            "Requirement already satisfied: plotly>=4.1.0 in /usr/local/lib/python3.7/dist-packages (from plotly-express) (4.4.1)\n",
            "Requirement already satisfied: pandas>=0.20.0 in /usr/local/lib/python3.7/dist-packages (from plotly-express) (1.1.5)\n",
            "Requirement already satisfied: statsmodels>=0.9.0 in /usr/local/lib/python3.7/dist-packages (from plotly-express) (0.10.2)\n",
            "Requirement already satisfied: scipy>=0.18 in /usr/local/lib/python3.7/dist-packages (from plotly-express) (1.4.1)\n",
            "Requirement already satisfied: patsy>=0.5 in /usr/local/lib/python3.7/dist-packages (from plotly-express) (0.5.1)\n",
            "Requirement already satisfied: numpy>=1.11 in /usr/local/lib/python3.7/dist-packages (from plotly-express) (1.19.5)\n",
            "Requirement already satisfied: retrying>=1.3.3 in /usr/local/lib/python3.7/dist-packages (from plotly>=4.1.0->plotly-express) (1.3.3)\n",
            "Requirement already satisfied: six in /usr/local/lib/python3.7/dist-packages (from plotly>=4.1.0->plotly-express) (1.15.0)\n",
            "Requirement already satisfied: pytz>=2017.2 in /usr/local/lib/python3.7/dist-packages (from pandas>=0.20.0->plotly-express) (2018.9)\n",
            "Requirement already satisfied: python-dateutil>=2.7.3 in /usr/local/lib/python3.7/dist-packages (from pandas>=0.20.0->plotly-express) (2.8.1)\n",
            "Installing collected packages: plotly-express\n",
            "Successfully installed plotly-express-0.4.1\n"
          ],
          "name": "stdout"
        }
      ]
    },
    {
      "cell_type": "code",
      "metadata": {
        "colab": {
          "base_uri": "https://localhost:8080/"
        },
        "id": "DyzOzwPgnLIE",
        "outputId": "905eb034-c803-45fa-d228-f50e5e9853c1"
      },
      "source": [
        "pip install dash==1.18.1"
      ],
      "execution_count": null,
      "outputs": [
        {
          "output_type": "stream",
          "text": [
            "Collecting dash==1.18.1\n",
            "\u001b[?25l  Downloading https://files.pythonhosted.org/packages/dd/17/55244363969638edd1151de0ea4aa10e6a7849b42d7d0994e3082514e19d/dash-1.18.1.tar.gz (74kB)\n",
            "\r\u001b[K     |████▍                           | 10kB 16.6MB/s eta 0:00:01\r\u001b[K     |████████▊                       | 20kB 23.7MB/s eta 0:00:01\r\u001b[K     |█████████████▏                  | 30kB 9.5MB/s eta 0:00:01\r\u001b[K     |█████████████████▌              | 40kB 8.9MB/s eta 0:00:01\r\u001b[K     |█████████████████████▉          | 51kB 7.8MB/s eta 0:00:01\r\u001b[K     |██████████████████████████▎     | 61kB 7.6MB/s eta 0:00:01\r\u001b[K     |██████████████████████████████▋ | 71kB 8.2MB/s eta 0:00:01\r\u001b[K     |████████████████████████████████| 81kB 4.7MB/s \n",
            "\u001b[?25hRequirement already satisfied: Flask>=1.0.4 in /usr/local/lib/python3.7/dist-packages (from dash==1.18.1) (1.1.2)\n",
            "Collecting flask-compress\n",
            "  Downloading https://files.pythonhosted.org/packages/c6/d5/69b13600230d24310b98a52da561113fc01a5c17acf77152761eef3e50f1/Flask_Compress-1.9.0-py3-none-any.whl\n",
            "Requirement already satisfied: plotly in /usr/local/lib/python3.7/dist-packages (from dash==1.18.1) (4.4.1)\n",
            "Collecting dash_renderer==1.8.3\n",
            "\u001b[?25l  Downloading https://files.pythonhosted.org/packages/72/fe/59a322edb128ad15205002c7b81e3f5e580f6791c4a100183289e05dbfcb/dash_renderer-1.8.3.tar.gz (1.0MB)\n",
            "\u001b[K     |████████████████████████████████| 1.0MB 11.6MB/s \n",
            "\u001b[?25hCollecting dash-core-components==1.14.1\n",
            "\u001b[?25l  Downloading https://files.pythonhosted.org/packages/0f/ab/5ffeeed41117383d02485f5b9204dcfaa074bfbb3ff2559afac7b904ad5c/dash_core_components-1.14.1.tar.gz (3.5MB)\n",
            "\u001b[K     |████████████████████████████████| 3.5MB 14.4MB/s \n",
            "\u001b[?25hCollecting dash-html-components==1.1.1\n",
            "\u001b[?25l  Downloading https://files.pythonhosted.org/packages/02/ba/bb9427c62feb25bfbaf243894eeeb4e7c67a92b426ed0575a167100e436e/dash_html_components-1.1.1.tar.gz (188kB)\n",
            "\u001b[K     |████████████████████████████████| 194kB 29.7MB/s \n",
            "\u001b[?25hCollecting dash-table==4.11.1\n",
            "\u001b[?25l  Downloading https://files.pythonhosted.org/packages/79/4b/de20584b7dc82dc6e572e8b596d21b1c6e39f13d19e8c9e6f1d67bed67fd/dash_table-4.11.1.tar.gz (1.8MB)\n",
            "\u001b[K     |████████████████████████████████| 1.8MB 31.9MB/s \n",
            "\u001b[?25hRequirement already satisfied: future in /usr/local/lib/python3.7/dist-packages (from dash==1.18.1) (0.16.0)\n",
            "Requirement already satisfied: click>=5.1 in /usr/local/lib/python3.7/dist-packages (from Flask>=1.0.4->dash==1.18.1) (7.1.2)\n",
            "Requirement already satisfied: itsdangerous>=0.24 in /usr/local/lib/python3.7/dist-packages (from Flask>=1.0.4->dash==1.18.1) (1.1.0)\n",
            "Requirement already satisfied: Jinja2>=2.10.1 in /usr/local/lib/python3.7/dist-packages (from Flask>=1.0.4->dash==1.18.1) (2.11.3)\n",
            "Requirement already satisfied: Werkzeug>=0.15 in /usr/local/lib/python3.7/dist-packages (from Flask>=1.0.4->dash==1.18.1) (1.0.1)\n",
            "Collecting brotli\n",
            "\u001b[?25l  Downloading https://files.pythonhosted.org/packages/15/ea/5bd575511b37bbd1c794606a0a621e6feff8e96b7dd007a86a5d218b2d94/Brotli-1.0.9-cp37-cp37m-manylinux1_x86_64.whl (357kB)\n",
            "\u001b[K     |████████████████████████████████| 358kB 40.1MB/s \n",
            "\u001b[?25hRequirement already satisfied: retrying>=1.3.3 in /usr/local/lib/python3.7/dist-packages (from plotly->dash==1.18.1) (1.3.3)\n",
            "Requirement already satisfied: six in /usr/local/lib/python3.7/dist-packages (from plotly->dash==1.18.1) (1.15.0)\n",
            "Requirement already satisfied: MarkupSafe>=0.23 in /usr/local/lib/python3.7/dist-packages (from Jinja2>=2.10.1->Flask>=1.0.4->dash==1.18.1) (1.1.1)\n",
            "Building wheels for collected packages: dash, dash-renderer, dash-core-components, dash-html-components, dash-table\n",
            "  Building wheel for dash (setup.py) ... \u001b[?25l\u001b[?25hdone\n",
            "  Created wheel for dash: filename=dash-1.18.1-cp37-none-any.whl size=83678 sha256=fbaf730960e8f08fcb34bbfa61fda7175f4c58e9a939604f186023eb5c92888d\n",
            "  Stored in directory: /root/.cache/pip/wheels/eb/56/fb/79b2169ce9fcb79753ec57a16abb8f0b7750b4c63d7eb3cea9\n",
            "  Building wheel for dash-renderer (setup.py) ... \u001b[?25l\u001b[?25hdone\n",
            "  Created wheel for dash-renderer: filename=dash_renderer-1.8.3-cp37-none-any.whl size=1013944 sha256=8c7fdb5d6c6d86ae373c3abdb13afa15847c6e1855c0dbc9779e452d0baec6f1\n",
            "  Stored in directory: /root/.cache/pip/wheels/cf/2b/5f/0928a6d1b7ebf280f21a2e925f36d662e6ba83e00b82c6b6bf\n",
            "  Building wheel for dash-core-components (setup.py) ... \u001b[?25l\u001b[?25hdone\n",
            "  Created wheel for dash-core-components: filename=dash_core_components-1.14.1-cp37-none-any.whl size=3525928 sha256=78481be7185bc9927775e2d13789890a23d5b7767ed822034c415459b0eb93d5\n",
            "  Stored in directory: /root/.cache/pip/wheels/e3/20/48/9022e1f2cb2fed4d9925370d0e17cbb3ab1164f3742d9b5e5a\n",
            "  Building wheel for dash-html-components (setup.py) ... \u001b[?25l\u001b[?25hdone\n",
            "  Created wheel for dash-html-components: filename=dash_html_components-1.1.1-cp37-none-any.whl size=427894 sha256=5319711e017c0ed7883661b7b3f2f3f411d3901a4f1ff4c755154e7104a3aa03\n",
            "  Stored in directory: /root/.cache/pip/wheels/8d/01/46/78e4de185a8a4a2da8ba31da16c52170f036d4cebeeb6e07a2\n",
            "  Building wheel for dash-table (setup.py) ... \u001b[?25l\u001b[?25hdone\n",
            "  Created wheel for dash-table: filename=dash_table-4.11.1-cp37-none-any.whl size=1839868 sha256=3067dc3cf48ebeac525d33383ad6f2174bf45640f761a3e4ca4093a50a2a2894\n",
            "  Stored in directory: /root/.cache/pip/wheels/53/a0/0e/1105943524ee7060c5c45a22e45c77777a3d8801f2fe49e445\n",
            "Successfully built dash dash-renderer dash-core-components dash-html-components dash-table\n",
            "Installing collected packages: brotli, flask-compress, dash-renderer, dash-core-components, dash-html-components, dash-table, dash\n",
            "Successfully installed brotli-1.0.9 dash-1.18.1 dash-core-components-1.14.1 dash-html-components-1.1.1 dash-renderer-1.8.3 dash-table-4.11.1 flask-compress-1.9.0\n"
          ],
          "name": "stdout"
        }
      ]
    },
    {
      "cell_type": "code",
      "metadata": {
        "colab": {
          "base_uri": "https://localhost:8080/"
        },
        "id": "-tebtgUSnR0e",
        "outputId": "a9068533-1c33-47e2-da93-8cea4e079717"
      },
      "source": [
        "!pip install dash_bootstrap_components"
      ],
      "execution_count": null,
      "outputs": [
        {
          "output_type": "stream",
          "text": [
            "Collecting dash_bootstrap_components\n",
            "\u001b[?25l  Downloading https://files.pythonhosted.org/packages/09/77/2e07311c55e9d584f08f4f95061b250cd481bcee8df581b8f30e07c4b97d/dash_bootstrap_components-0.12.0-py3-none-any.whl (191kB)\n",
            "\r\u001b[K     |█▊                              | 10kB 16.6MB/s eta 0:00:01\r\u001b[K     |███▍                            | 20kB 12.8MB/s eta 0:00:01\r\u001b[K     |█████▏                          | 30kB 12.1MB/s eta 0:00:01\r\u001b[K     |██████▉                         | 40kB 8.4MB/s eta 0:00:01\r\u001b[K     |████████▋                       | 51kB 7.4MB/s eta 0:00:01\r\u001b[K     |██████████▎                     | 61kB 6.6MB/s eta 0:00:01\r\u001b[K     |████████████                    | 71kB 7.4MB/s eta 0:00:01\r\u001b[K     |█████████████▊                  | 81kB 7.2MB/s eta 0:00:01\r\u001b[K     |███████████████▍                | 92kB 7.5MB/s eta 0:00:01\r\u001b[K     |█████████████████▏              | 102kB 7.1MB/s eta 0:00:01\r\u001b[K     |██████████████████▉             | 112kB 7.1MB/s eta 0:00:01\r\u001b[K     |████████████████████▋           | 122kB 7.1MB/s eta 0:00:01\r\u001b[K     |██████████████████████▎         | 133kB 7.1MB/s eta 0:00:01\r\u001b[K     |████████████████████████        | 143kB 7.1MB/s eta 0:00:01\r\u001b[K     |█████████████████████████▊      | 153kB 7.1MB/s eta 0:00:01\r\u001b[K     |███████████████████████████▌    | 163kB 7.1MB/s eta 0:00:01\r\u001b[K     |█████████████████████████████▏  | 174kB 7.1MB/s eta 0:00:01\r\u001b[K     |██████████████████████████████▉ | 184kB 7.1MB/s eta 0:00:01\r\u001b[K     |████████████████████████████████| 194kB 7.1MB/s \n",
            "\u001b[?25hRequirement already satisfied: dash>=1.9.0 in /usr/local/lib/python3.7/dist-packages (from dash_bootstrap_components) (1.18.1)\n",
            "Requirement already satisfied: flask-compress in /usr/local/lib/python3.7/dist-packages (from dash>=1.9.0->dash_bootstrap_components) (1.9.0)\n",
            "Requirement already satisfied: dash-renderer==1.8.3 in /usr/local/lib/python3.7/dist-packages (from dash>=1.9.0->dash_bootstrap_components) (1.8.3)\n",
            "Requirement already satisfied: dash-html-components==1.1.1 in /usr/local/lib/python3.7/dist-packages (from dash>=1.9.0->dash_bootstrap_components) (1.1.1)\n",
            "Requirement already satisfied: plotly in /usr/local/lib/python3.7/dist-packages (from dash>=1.9.0->dash_bootstrap_components) (4.4.1)\n",
            "Requirement already satisfied: dash-core-components==1.14.1 in /usr/local/lib/python3.7/dist-packages (from dash>=1.9.0->dash_bootstrap_components) (1.14.1)\n",
            "Requirement already satisfied: dash-table==4.11.1 in /usr/local/lib/python3.7/dist-packages (from dash>=1.9.0->dash_bootstrap_components) (4.11.1)\n",
            "Requirement already satisfied: Flask>=1.0.4 in /usr/local/lib/python3.7/dist-packages (from dash>=1.9.0->dash_bootstrap_components) (1.1.2)\n",
            "Requirement already satisfied: future in /usr/local/lib/python3.7/dist-packages (from dash>=1.9.0->dash_bootstrap_components) (0.16.0)\n",
            "Requirement already satisfied: brotli in /usr/local/lib/python3.7/dist-packages (from flask-compress->dash>=1.9.0->dash_bootstrap_components) (1.0.9)\n",
            "Requirement already satisfied: retrying>=1.3.3 in /usr/local/lib/python3.7/dist-packages (from plotly->dash>=1.9.0->dash_bootstrap_components) (1.3.3)\n",
            "Requirement already satisfied: six in /usr/local/lib/python3.7/dist-packages (from plotly->dash>=1.9.0->dash_bootstrap_components) (1.15.0)\n",
            "Requirement already satisfied: Jinja2>=2.10.1 in /usr/local/lib/python3.7/dist-packages (from Flask>=1.0.4->dash>=1.9.0->dash_bootstrap_components) (2.11.3)\n",
            "Requirement already satisfied: click>=5.1 in /usr/local/lib/python3.7/dist-packages (from Flask>=1.0.4->dash>=1.9.0->dash_bootstrap_components) (7.1.2)\n",
            "Requirement already satisfied: itsdangerous>=0.24 in /usr/local/lib/python3.7/dist-packages (from Flask>=1.0.4->dash>=1.9.0->dash_bootstrap_components) (1.1.0)\n",
            "Requirement already satisfied: Werkzeug>=0.15 in /usr/local/lib/python3.7/dist-packages (from Flask>=1.0.4->dash>=1.9.0->dash_bootstrap_components) (1.0.1)\n",
            "Requirement already satisfied: MarkupSafe>=0.23 in /usr/local/lib/python3.7/dist-packages (from Jinja2>=2.10.1->Flask>=1.0.4->dash>=1.9.0->dash_bootstrap_components) (1.1.1)\n",
            "Installing collected packages: dash-bootstrap-components\n",
            "Successfully installed dash-bootstrap-components-0.12.0\n"
          ],
          "name": "stdout"
        }
      ]
    },
    {
      "cell_type": "code",
      "metadata": {
        "id": "2cGO-7HfnfXM"
      },
      "source": [
        "import dash\n",
        "from dash.dependencies import Input, Output\n",
        "import plotly.figure_factory as ff\n",
        "import dash_bootstrap_components as dbc\n",
        "import dash_html_components as html\n",
        "import dash_core_components as dcc\n",
        "import plotly.graph_objects as go\n",
        "import plotly.express as px\n",
        "import pandas as pd\n",
        "import dash_table"
      ],
      "execution_count": null,
      "outputs": []
    },
    {
      "cell_type": "code",
      "metadata": {
        "id": "SIBhHIEdno3L"
      },
      "source": [
        "app = dash.Dash(__name__ , meta_tags=[{\"name\": \"viewport\", \"content\": \"width=device-width\"}],external_stylesheets=[dbc.themes.BOOTSTRAP])"
      ],
      "execution_count": null,
      "outputs": []
    },
    {
      "cell_type": "code",
      "metadata": {
        "id": "yiWkQCzNn4UQ"
      },
      "source": [
        "app.layout = html.Div(\n",
        "\n",
        "    children=[\n",
        "\n",
        "        html.H1(children=\"Feedback Analytics\",),\n",
        "\n",
        "        html.P(\n",
        "\n",
        "            children=\"analyse feedback given by students\"\n",
        "\n",
        "            \" and the number of students interested in courses \"\n",
        "\n",
        "           \n",
        "\n",
        "        ),\n",
        "\n",
        "        dcc.Graph(\n",
        "\n",
        "            figure={\n",
        "\n",
        "                \"data\": [\n",
        "\n",
        "                    {\n",
        "\n",
        "                        \"x\": df[\"ID\"],\n",
        "\n",
        "                        \"y\": df[\"OverallSession\"],\n",
        "\n",
        "                        \"type\": \"lines\",\n",
        "\n",
        "                    },\n",
        "\n",
        "                ],\n",
        "\n",
        "                \"layout\": {\"title\": \"overall session analysis\"},\n",
        "\n",
        "            },\n",
        "\n",
        "        ),\n",
        "\n",
        "        dcc.Graph(\n",
        "\n",
        "            figure={\n",
        "\n",
        "                \"data\": [\n",
        "\n",
        "                    {\n",
        "\n",
        "                        \"x\": df[\"ID\"],\n",
        "\n",
        "                        \"y\": df[\"TrainersKnoweldge\"],\n",
        "\n",
        "                        \"type\": \"lines\",\n",
        "\n",
        "                    },\n",
        "\n",
        "                ],\n",
        "\n",
        "                \"layout\": {\"title\": \"trainers knowledge analysis\"},\n",
        "\n",
        "            },\n",
        "\n",
        "        ),\n",
        "\n",
        "    ]\n",
        "\n",
        ")\n",
        "\n",
        "\n",
        "\n"
      ],
      "execution_count": null,
      "outputs": []
    },
    {
      "cell_type": "code",
      "metadata": {
        "colab": {
          "base_uri": "https://localhost:8080/",
          "height": 316
        },
        "id": "1pkRbf0rzzHu",
        "outputId": "b1c371ec-b043-4ecf-97cc-ae98141bf7e2"
      },
      "source": [
        "if __name__ == \"__main__\":\n",
        "\n",
        "    app.run_server(debug=True)"
      ],
      "execution_count": null,
      "outputs": [
        {
          "output_type": "stream",
          "text": [
            "Dash is running on http://127.0.0.1:8050/\n",
            "\n",
            " * Serving Flask app \"__main__\" (lazy loading)\n",
            " * Environment: production\n",
            "\u001b[31m   WARNING: This is a development server. Do not use it in a production deployment.\u001b[0m\n",
            "\u001b[2m   Use a production WSGI server instead.\u001b[0m\n",
            " * Debug mode: on\n"
          ],
          "name": "stdout"
        },
        {
          "output_type": "error",
          "ename": "SystemExit",
          "evalue": "ignored",
          "traceback": [
            "An exception has occurred, use %tb to see the full traceback.\n",
            "\u001b[0;31mSystemExit\u001b[0m\u001b[0;31m:\u001b[0m 1\n"
          ]
        },
        {
          "output_type": "stream",
          "text": [
            "/usr/local/lib/python3.7/dist-packages/IPython/core/interactiveshell.py:2890: UserWarning:\n",
            "\n",
            "To exit: use 'exit', 'quit', or Ctrl-D.\n",
            "\n"
          ],
          "name": "stderr"
        }
      ]
    },
    {
      "cell_type": "code",
      "metadata": {
        "id": "n3pKGa6l1ceq"
      },
      "source": [
        ""
      ],
      "execution_count": null,
      "outputs": []
    }
  ]
}